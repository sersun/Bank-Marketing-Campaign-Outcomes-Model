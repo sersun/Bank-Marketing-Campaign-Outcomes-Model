{
 "cells": [
  {
   "cell_type": "markdown",
   "id": "83a08cbb0bdec68a",
   "metadata": {},
   "source": [
    "## Analyze Data and Prepare for Modeling \n",
    "\n",
    "Dataset contains customer attributes like age, occupation, marital status, education, communication channel, call timing/duration, previous campaign outcome, and conversion status, enabling analysis of customer interactions and campaign effectiveness in insurance.\n",
    "\n",
    "Each row represents a customer interaction record, detailing various attributes such as age, occupation, marital status, education level, communication channel, call timing and duration, previous campaign outcome, and conversion status. This dataset can be used for analyzing customer behavior, predicting conversion rates, and optimizing marketing strategies in the insurance industry.\n",
    "\n",
    "Let's start by examining the dataset for any blank or duplicate values and then prepare it for a descriptive statistical analysis. I'll load the dataset first to see what we're working with."
   ]
  },
  {
   "cell_type": "code",
   "id": "f7d8ffa3d97f0589",
   "metadata": {
    "ExecuteTime": {
     "end_time": "2024-04-16T15:53:34.376754Z",
     "start_time": "2024-04-16T15:53:34.216435Z"
    }
   },
   "source": [
    "import pandas as pd\n",
    "\n",
    "# Load the dataset\n",
    "file_path = '../data/Bank Marketing Campaign Dataset.csv'\n",
    "data = pd.read_csv(file_path)\n",
    "\n",
    "# Display the first few rows of the dataset and its basic information\n",
    "data.head(), data.info()\n"
   ],
   "outputs": [
    {
     "name": "stdout",
     "output_type": "stream",
     "text": [
      "<class 'pandas.core.frame.DataFrame'>\n",
      "RangeIndex: 45211 entries, 0 to 45210\n",
      "Data columns (total 11 columns):\n",
      " #   Column                     Non-Null Count  Dtype \n",
      "---  ------                     --------------  ----- \n",
      " 0   occupation                 45211 non-null  object\n",
      " 1   age                        45211 non-null  int64 \n",
      " 2   education_level            45211 non-null  object\n",
      " 3   marital_status             45211 non-null  object\n",
      " 4   communication_channel      45211 non-null  object\n",
      " 5   call_month                 45211 non-null  object\n",
      " 6   call_day                   45211 non-null  int64 \n",
      " 7   call_duration              45211 non-null  int64 \n",
      " 8   call_frequency             45211 non-null  int64 \n",
      " 9   previous_campaign_outcome  45211 non-null  object\n",
      " 10  conversion_status          45211 non-null  object\n",
      "dtypes: int64(4), object(7)\n",
      "memory usage: 3.8+ MB\n"
     ]
    },
    {
     "data": {
      "text/plain": [
       "(             occupation  age education_level marital_status  \\\n",
       " 0  administrative_staff   28     high_school        married   \n",
       " 1  administrative_staff   58    unidentified        married   \n",
       " 2               jobless   40     high_school       divorced   \n",
       " 3        retired_worker   63     high_school        married   \n",
       " 4        business_owner   43         college        married   \n",
       " \n",
       "   communication_channel call_month  call_day  call_duration  call_frequency  \\\n",
       " 0          unidentified  September         9              1               1   \n",
       " 1          unidentified       June         5            307               2   \n",
       " 2                mobile   February         4            113               1   \n",
       " 3                mobile      April         7             72               5   \n",
       " 4              landline       July        29            184               4   \n",
       " \n",
       "   previous_campaign_outcome conversion_status  \n",
       " 0                successful     not_converted  \n",
       " 1              unidentified     not_converted  \n",
       " 2              unidentified     not_converted  \n",
       " 3              unidentified     not_converted  \n",
       " 4              unidentified     not_converted  ,\n",
       " None)"
      ]
     },
     "execution_count": 20,
     "metadata": {},
     "output_type": "execute_result"
    }
   ],
   "execution_count": 20
  },
  {
   "cell_type": "markdown",
   "id": "2035038a3688750e",
   "metadata": {},
   "source": [
    "The dataset consists of 45,211 entries across 11 columns with various attributes such as occupation, age, education level, marital status, communication channel, and others related to a marketing campaign.\n",
    "\n",
    "Here's a brief overview of the columns:\n",
    "\n",
    "- occupation: Occupation of the customer.\n",
    "- age: Age of the customer.\n",
    "- education_level: Educational level of the customer.\n",
    "- marital_status: Marital status of the customer.\n",
    "- communication_channel: Communication channel used for the call.\n",
    "- call_month: Month when the call was made.\n",
    "- call_day: Day of the month when the call was made.\n",
    "- call_duration: Duration of the call in minutes.\n",
    "- call_frequency: Frequency of the calls made.\n",
    "- previous_campaign_outcome: Outcome of the previous marketing campaign.\n",
    "- conversion_status: Whether the customer converted or not after the call."
   ]
  },
  {
   "cell_type": "markdown",
   "id": "4b2a1ba448a2c5cf",
   "metadata": {},
   "source": [
    "Next, I'll check for any duplicate entries and blank or missing values in the dataset. ​​\n",
    "\n",
    "The dataset contains 6 duplicate entries and no missing values across all columns."
   ]
  },
  {
   "cell_type": "code",
   "id": "87a31c837137017b",
   "metadata": {
    "ExecuteTime": {
     "end_time": "2024-04-16T15:53:37.204302Z",
     "start_time": "2024-04-16T15:53:37.141076Z"
    }
   },
   "source": [
    "# Check for duplicate entries\n",
    "duplicate_count = data.duplicated().sum()\n",
    "\n",
    "# Check for any missing or blank values\n",
    "missing_values = data.isna().sum()\n",
    "print(\"Duplicate entries:\", duplicate_count\n",
    "    , \"\\nMissing values:\\n\",missing_values)"
   ],
   "outputs": [
    {
     "name": "stdout",
     "output_type": "stream",
     "text": [
      "Duplicate entries: 6 \n",
      "Missing values:\n",
      " occupation                   0\n",
      "age                          0\n",
      "education_level              0\n",
      "marital_status               0\n",
      "communication_channel        0\n",
      "call_month                   0\n",
      "call_day                     0\n",
      "call_duration                0\n",
      "call_frequency               0\n",
      "previous_campaign_outcome    0\n",
      "conversion_status            0\n",
      "dtype: int64\n"
     ]
    }
   ],
   "execution_count": 21
  },
  {
   "cell_type": "markdown",
   "id": "a4f6e74d360063f",
   "metadata": {},
   "source": [
    "The next steps would be:\n",
    "\n",
    "1. Remove the duplicate entries to clean the data.\n",
    "2. Perform a descriptive statistical analysis to understand the distribution and summary statistics of the numerical data."
   ]
  },
  {
   "cell_type": "code",
   "id": "4f460baaea0e9ab9",
   "metadata": {
    "ExecuteTime": {
     "end_time": "2024-04-16T15:53:38.740230Z",
     "start_time": "2024-04-16T15:53:38.654062Z"
    }
   },
   "source": [
    "# Remove duplicate entries\n",
    "cleaned_data = data.drop_duplicates()\n",
    "\n",
    "# Verify removal\n",
    "remaining_duplicates = cleaned_data.duplicated().sum()\n",
    "print(\"Duplicates value don't exist.\" if remaining_duplicates == 0 else f\"There are {remaining_duplicates} duplicates.\")\n"
   ],
   "outputs": [
    {
     "name": "stdout",
     "output_type": "stream",
     "text": [
      "Duplicates value don't exist.\n"
     ]
    }
   ],
   "execution_count": 22
  },
  {
   "cell_type": "markdown",
   "id": "5b7071c2fd672891",
   "metadata": {},
   "source": [
    "Let's proceed to the descriptive statistical analysis.\n",
    "\n",
    "I will calculate the basic statistics for the numerical columns: age, call_day, call_duration, and call_frequency.\n",
    "\n",
    "This includes measures like mean, median, standard deviation, and range."
   ]
  },
  {
   "cell_type": "code",
   "id": "a157d7547c584507",
   "metadata": {
    "ExecuteTime": {
     "end_time": "2024-04-16T15:53:40.934690Z",
     "start_time": "2024-04-16T15:53:40.888856Z"
    }
   },
   "source": [
    "# Descriptive statistics for numerical columns\n",
    "numerical_description = cleaned_data[['age', 'call_day', 'call_duration', 'call_frequency']].describe()\n",
    "numerical_description"
   ],
   "outputs": [
    {
     "data": {
      "text/plain": [
       "                age     call_day  call_duration  call_frequency\n",
       "count  45205.000000  45205.00000   45205.000000    45205.000000\n",
       "mean      40.937087     15.80688     258.183055        2.763898\n",
       "std       10.619130      8.32234     257.538504        3.098189\n",
       "min       18.000000      1.00000       0.000000        1.000000\n",
       "25%       33.000000      8.00000     103.000000        1.000000\n",
       "50%       39.000000     16.00000     180.000000        2.000000\n",
       "75%       48.000000     21.00000     319.000000        3.000000\n",
       "max       95.000000     31.00000    4918.000000       63.000000"
      ],
      "text/html": [
       "<div>\n",
       "<style scoped>\n",
       "    .dataframe tbody tr th:only-of-type {\n",
       "        vertical-align: middle;\n",
       "    }\n",
       "\n",
       "    .dataframe tbody tr th {\n",
       "        vertical-align: top;\n",
       "    }\n",
       "\n",
       "    .dataframe thead th {\n",
       "        text-align: right;\n",
       "    }\n",
       "</style>\n",
       "<table border=\"1\" class=\"dataframe\">\n",
       "  <thead>\n",
       "    <tr style=\"text-align: right;\">\n",
       "      <th></th>\n",
       "      <th>age</th>\n",
       "      <th>call_day</th>\n",
       "      <th>call_duration</th>\n",
       "      <th>call_frequency</th>\n",
       "    </tr>\n",
       "  </thead>\n",
       "  <tbody>\n",
       "    <tr>\n",
       "      <th>count</th>\n",
       "      <td>45205.000000</td>\n",
       "      <td>45205.00000</td>\n",
       "      <td>45205.000000</td>\n",
       "      <td>45205.000000</td>\n",
       "    </tr>\n",
       "    <tr>\n",
       "      <th>mean</th>\n",
       "      <td>40.937087</td>\n",
       "      <td>15.80688</td>\n",
       "      <td>258.183055</td>\n",
       "      <td>2.763898</td>\n",
       "    </tr>\n",
       "    <tr>\n",
       "      <th>std</th>\n",
       "      <td>10.619130</td>\n",
       "      <td>8.32234</td>\n",
       "      <td>257.538504</td>\n",
       "      <td>3.098189</td>\n",
       "    </tr>\n",
       "    <tr>\n",
       "      <th>min</th>\n",
       "      <td>18.000000</td>\n",
       "      <td>1.00000</td>\n",
       "      <td>0.000000</td>\n",
       "      <td>1.000000</td>\n",
       "    </tr>\n",
       "    <tr>\n",
       "      <th>25%</th>\n",
       "      <td>33.000000</td>\n",
       "      <td>8.00000</td>\n",
       "      <td>103.000000</td>\n",
       "      <td>1.000000</td>\n",
       "    </tr>\n",
       "    <tr>\n",
       "      <th>50%</th>\n",
       "      <td>39.000000</td>\n",
       "      <td>16.00000</td>\n",
       "      <td>180.000000</td>\n",
       "      <td>2.000000</td>\n",
       "    </tr>\n",
       "    <tr>\n",
       "      <th>75%</th>\n",
       "      <td>48.000000</td>\n",
       "      <td>21.00000</td>\n",
       "      <td>319.000000</td>\n",
       "      <td>3.000000</td>\n",
       "    </tr>\n",
       "    <tr>\n",
       "      <th>max</th>\n",
       "      <td>95.000000</td>\n",
       "      <td>31.00000</td>\n",
       "      <td>4918.000000</td>\n",
       "      <td>63.000000</td>\n",
       "    </tr>\n",
       "  </tbody>\n",
       "</table>\n",
       "</div>"
      ]
     },
     "execution_count": 23,
     "metadata": {},
     "output_type": "execute_result"
    }
   ],
   "execution_count": 23
  },
  {
   "cell_type": "markdown",
   "id": "cf319b8976ae7d44",
   "metadata": {},
   "source": [
    "#### Age:\n",
    "- Mean: Approximately 40.94 years\n",
    "- Standard Deviation: Approximately 10.62 years\n",
    "- Min/Max: Ranges from 18 to 95 years\n",
    "- Quartiles: The 25th, 50th (median), and 75th percentiles are 33, 39, and 48 years, respectively.\n",
    "\n",
    "#### Call Day (day of the month when the call was made):\n",
    "- Mean: Approximately 15.81\n",
    "- Standard Deviation: Approximately 8.32\n",
    "- Min/Max: Ranges from 1 to 31\n",
    "- Quartiles: The 25th, 50th (median), and 75th percentiles are 8, 16, and 21, respectively.\n",
    "\n",
    "#### Call Duration (in seconds):\n",
    "- Mean: Approximately 258.18 seconds\n",
    "- Standard Deviation: Approximately 257.54 seconds\n",
    "- Min/Max: Ranges from 0 to 4918 seconds\n",
    "- Quartiles: The 25th, 50th (median), and 75th percentiles are 103, 180, and 319 seconds, respectively.\n",
    "\n",
    "#### Call Frequency:\n",
    "- Mean: Approximately 2.76 calls\n",
    "- Standard Deviation: Approximately 3.10 calls\n",
    "- Min/Max: Ranges from 1 to 63 calls. Interesting! 63 calls is the highest frequency. Why? :)\n",
    "- Quartiles: The 25th, 50th (median), and 75th percentiles are 1, 2, and 3 calls, respectively."
   ]
  },
  {
   "cell_type": "markdown",
   "id": "55df196efcb54ef5",
   "metadata": {},
   "source": [
    "### Plan for next steps:\n",
    "#### Perform analysis for understanding the effectiveness of the bank marketing campaigns and for strategic planning"
   ]
  },
  {
   "cell_type": "code",
   "id": "5938d4f5ed32ebb0",
   "metadata": {
    "ExecuteTime": {
     "end_time": "2024-04-16T15:53:44.243719Z",
     "start_time": "2024-04-16T15:53:44.225627Z"
    }
   },
   "source": [
    "# Calculate overall conversion rate\n",
    "data = cleaned_data # Replace with your cleaned dataframe for more clean code   \n",
    "\n",
    "conversion_rate_overall = data['conversion_status'].value_counts(normalize=True)['converted'] * 100\n",
    "print(\"\"\"Overall Conversion Rate: {}%\"\"\".format(round(conversion_rate_overall, 2)))"
   ],
   "outputs": [
    {
     "name": "stdout",
     "output_type": "stream",
     "text": [
      "Overall Conversion Rate: 11.7%\n"
     ]
    }
   ],
   "execution_count": 24
  },
  {
   "cell_type": "markdown",
   "id": "b9ada2fa07b9f406",
   "metadata": {},
   "source": "The overall conversion rate in the dataset is approximately __11.70%__. This indicates that about 11.7% of the contacts in the campaign resulted in a conversion."
  },
  {
   "cell_type": "markdown",
   "id": "27c9b6be85e75293",
   "metadata": {},
   "source": [
    "### Conversion Rate by different demographic attributes\n",
    "\n",
    "Initial we will set up a function to calculate the conversion rate by different demographic attributes."
   ]
  },
  {
   "cell_type": "code",
   "id": "d921004fc916af29",
   "metadata": {
    "ExecuteTime": {
     "end_time": "2024-04-16T15:59:39.420048Z",
     "start_time": "2024-04-16T15:59:39.397031Z"
    }
   },
   "source": [
    "# Define conversion rate function\n",
    "def conversion_rate_by(attribute):\n",
    "    conversion_rates = data.groupby(attribute, observed=True)['conversion_status'].value_counts(normalize=True).unstack().fillna(0)\n",
    "    conversion_rates['conversion_rate'] = conversion_rates['converted'] * 100\n",
    "    return conversion_rates[['conversion_rate']]"
   ],
   "outputs": [],
   "execution_count": 34
  },
  {
   "cell_type": "markdown",
   "id": "47ae1400d1d5ecfe",
   "metadata": {},
   "source": [
    "## By Ocupation"
   ]
  },
  {
   "cell_type": "code",
   "id": "f9d49687c3480905",
   "metadata": {
    "ExecuteTime": {
     "end_time": "2024-04-16T15:59:41.181339Z",
     "start_time": "2024-04-16T15:59:41.151821Z"
    }
   },
   "source": [
    "conversion_rate_occupation = conversion_rate_by('occupation')\n",
    "print(\"Conversion rates by occupation (%):\")\n",
    "conversion_rate_occupation.head(20).sort_values(by='conversion_rate', ascending=False)"
   ],
   "outputs": [
    {
     "name": "stdout",
     "output_type": "stream",
     "text": [
      "Conversion rates by occupation (%):\n"
     ]
    },
    {
     "data": {
      "text/plain": [
       "conversion_status     conversion_rate\n",
       "occupation                           \n",
       "student                     28.678038\n",
       "retired_worker              22.791519\n",
       "jobless                     15.502686\n",
       "executive                   13.757005\n",
       "administrative_staff        12.205029\n",
       "independent_worker          11.842939\n",
       "unidentified                11.805556\n",
       "technical_specialist        11.058452\n",
       "service_worker               8.885143\n",
       "domestic_worker              8.790323\n",
       "business_owner               8.271688\n",
       "manual_worker                7.276465"
      ],
      "text/html": [
       "<div>\n",
       "<style scoped>\n",
       "    .dataframe tbody tr th:only-of-type {\n",
       "        vertical-align: middle;\n",
       "    }\n",
       "\n",
       "    .dataframe tbody tr th {\n",
       "        vertical-align: top;\n",
       "    }\n",
       "\n",
       "    .dataframe thead th {\n",
       "        text-align: right;\n",
       "    }\n",
       "</style>\n",
       "<table border=\"1\" class=\"dataframe\">\n",
       "  <thead>\n",
       "    <tr style=\"text-align: right;\">\n",
       "      <th>conversion_status</th>\n",
       "      <th>conversion_rate</th>\n",
       "    </tr>\n",
       "    <tr>\n",
       "      <th>occupation</th>\n",
       "      <th></th>\n",
       "    </tr>\n",
       "  </thead>\n",
       "  <tbody>\n",
       "    <tr>\n",
       "      <th>student</th>\n",
       "      <td>28.678038</td>\n",
       "    </tr>\n",
       "    <tr>\n",
       "      <th>retired_worker</th>\n",
       "      <td>22.791519</td>\n",
       "    </tr>\n",
       "    <tr>\n",
       "      <th>jobless</th>\n",
       "      <td>15.502686</td>\n",
       "    </tr>\n",
       "    <tr>\n",
       "      <th>executive</th>\n",
       "      <td>13.757005</td>\n",
       "    </tr>\n",
       "    <tr>\n",
       "      <th>administrative_staff</th>\n",
       "      <td>12.205029</td>\n",
       "    </tr>\n",
       "    <tr>\n",
       "      <th>independent_worker</th>\n",
       "      <td>11.842939</td>\n",
       "    </tr>\n",
       "    <tr>\n",
       "      <th>unidentified</th>\n",
       "      <td>11.805556</td>\n",
       "    </tr>\n",
       "    <tr>\n",
       "      <th>technical_specialist</th>\n",
       "      <td>11.058452</td>\n",
       "    </tr>\n",
       "    <tr>\n",
       "      <th>service_worker</th>\n",
       "      <td>8.885143</td>\n",
       "    </tr>\n",
       "    <tr>\n",
       "      <th>domestic_worker</th>\n",
       "      <td>8.790323</td>\n",
       "    </tr>\n",
       "    <tr>\n",
       "      <th>business_owner</th>\n",
       "      <td>8.271688</td>\n",
       "    </tr>\n",
       "    <tr>\n",
       "      <th>manual_worker</th>\n",
       "      <td>7.276465</td>\n",
       "    </tr>\n",
       "  </tbody>\n",
       "</table>\n",
       "</div>"
      ]
     },
     "execution_count": 35,
     "metadata": {},
     "output_type": "execute_result"
    }
   ],
   "execution_count": 35
  },
  {
   "cell_type": "markdown",
   "id": "c007b02a2ecf871e",
   "metadata": {},
   "source": [
    "Now, let's look at how the conversion rate varies across different occupations (showing just a few for initial insights):\n",
    "\n",
    "* student: 28.67% - This is the highest conversion rate among the listed occupations,\n",
    "* retired: 22.79% - Second highest conversion rate among the listed occupations,\n",
    "* jobless: 15.50% - Third highest conversion rate among the listed occupations,\n",
    "* Executive: 13.76%\n",
    "* Administrative Staff: 12.20%\n",
    "* Independent Worker: 11.84%, and other occupations, with a lower conversion rate.\n",
    "\n",
    "In dependence of strategy or marketing goals, we can consider these groups to be more likely to convert."
   ]
  },
  {
   "cell_type": "markdown",
   "id": "7293ac455bd36302",
   "metadata": {},
   "source": [
    "## Education Level"
   ]
  },
  {
   "cell_type": "code",
   "id": "6f2fb02e82d98814",
   "metadata": {
    "ExecuteTime": {
     "end_time": "2024-04-16T15:59:43.357739Z",
     "start_time": "2024-04-16T15:59:43.329330Z"
    }
   },
   "source": [
    "conversion_rate_education = conversion_rate_by('education_level')\n",
    "print(\"Conversion rates by education level:\")\n",
    "conversion_rate_education.head(10).sort_values(by='conversion_rate', ascending=False)"
   ],
   "outputs": [
    {
     "name": "stdout",
     "output_type": "stream",
     "text": [
      "Conversion rates by education level:\n"
     ]
    },
    {
     "data": {
      "text/plain": [
       "conversion_status  conversion_rate\n",
       "education_level                   \n",
       "college                  15.008647\n",
       "unidentified             13.570275\n",
       "high_school              10.560800\n",
       "elementary_school         8.627737"
      ],
      "text/html": [
       "<div>\n",
       "<style scoped>\n",
       "    .dataframe tbody tr th:only-of-type {\n",
       "        vertical-align: middle;\n",
       "    }\n",
       "\n",
       "    .dataframe tbody tr th {\n",
       "        vertical-align: top;\n",
       "    }\n",
       "\n",
       "    .dataframe thead th {\n",
       "        text-align: right;\n",
       "    }\n",
       "</style>\n",
       "<table border=\"1\" class=\"dataframe\">\n",
       "  <thead>\n",
       "    <tr style=\"text-align: right;\">\n",
       "      <th>conversion_status</th>\n",
       "      <th>conversion_rate</th>\n",
       "    </tr>\n",
       "    <tr>\n",
       "      <th>education_level</th>\n",
       "      <th></th>\n",
       "    </tr>\n",
       "  </thead>\n",
       "  <tbody>\n",
       "    <tr>\n",
       "      <th>college</th>\n",
       "      <td>15.008647</td>\n",
       "    </tr>\n",
       "    <tr>\n",
       "      <th>unidentified</th>\n",
       "      <td>13.570275</td>\n",
       "    </tr>\n",
       "    <tr>\n",
       "      <th>high_school</th>\n",
       "      <td>10.560800</td>\n",
       "    </tr>\n",
       "    <tr>\n",
       "      <th>elementary_school</th>\n",
       "      <td>8.627737</td>\n",
       "    </tr>\n",
       "  </tbody>\n",
       "</table>\n",
       "</div>"
      ]
     },
     "execution_count": 36,
     "metadata": {},
     "output_type": "execute_result"
    }
   ],
   "execution_count": 36
  },
  {
   "cell_type": "markdown",
   "id": "7c6b98280abb1a88",
   "metadata": {},
   "source": "Individuals with a college education have the highest conversion rate among the educational groups, which might indicate a better receptiveness or understanding of the offers presented in the campaign. In the future wold be interesting to determine educational level for \"unidentified\" individuals for a more accurate analysis."
  },
  {
   "cell_type": "markdown",
   "id": "71f1047e5002351",
   "metadata": {},
   "source": [
    "## Marital Status"
   ]
  },
  {
   "cell_type": "code",
   "id": "ddb0e48931909a47",
   "metadata": {
    "ExecuteTime": {
     "end_time": "2024-04-16T15:59:45.444098Z",
     "start_time": "2024-04-16T15:59:45.405563Z"
    }
   },
   "source": [
    "conversion_rate_marital = conversion_rate_by('marital_status')\n",
    "print(\"\\nConversion rates by marital status (%):\")\n",
    "conversion_rate_marital.head().sort_values(by='conversion_rate', ascending=False)"
   ],
   "outputs": [
    {
     "name": "stdout",
     "output_type": "stream",
     "text": [
      "\n",
      "Conversion rates by marital status (%):\n"
     ]
    },
    {
     "data": {
      "text/plain": [
       "conversion_status  conversion_rate\n",
       "marital_status                    \n",
       "single                   14.951517\n",
       "divorced                 11.945458\n",
       "married                  10.124954"
      ],
      "text/html": [
       "<div>\n",
       "<style scoped>\n",
       "    .dataframe tbody tr th:only-of-type {\n",
       "        vertical-align: middle;\n",
       "    }\n",
       "\n",
       "    .dataframe tbody tr th {\n",
       "        vertical-align: top;\n",
       "    }\n",
       "\n",
       "    .dataframe thead th {\n",
       "        text-align: right;\n",
       "    }\n",
       "</style>\n",
       "<table border=\"1\" class=\"dataframe\">\n",
       "  <thead>\n",
       "    <tr style=\"text-align: right;\">\n",
       "      <th>conversion_status</th>\n",
       "      <th>conversion_rate</th>\n",
       "    </tr>\n",
       "    <tr>\n",
       "      <th>marital_status</th>\n",
       "      <th></th>\n",
       "    </tr>\n",
       "  </thead>\n",
       "  <tbody>\n",
       "    <tr>\n",
       "      <th>single</th>\n",
       "      <td>14.951517</td>\n",
       "    </tr>\n",
       "    <tr>\n",
       "      <th>divorced</th>\n",
       "      <td>11.945458</td>\n",
       "    </tr>\n",
       "    <tr>\n",
       "      <th>married</th>\n",
       "      <td>10.124954</td>\n",
       "    </tr>\n",
       "  </tbody>\n",
       "</table>\n",
       "</div>"
      ]
     },
     "execution_count": 37,
     "metadata": {},
     "output_type": "execute_result"
    }
   ],
   "execution_count": 37
  },
  {
   "cell_type": "markdown",
   "id": "7657f7b9b20358cc",
   "metadata": {},
   "source": [
    "Single individuals show a higher conversion rate compared to married and divorced individuals. This may likely be due to the fact that married people make decisions together when it comes to finances."
   ]
  },
  {
   "cell_type": "markdown",
   "id": "d7a2f8adaa215615",
   "metadata": {},
   "source": [
    "## Communication Channel"
   ]
  },
  {
   "cell_type": "code",
   "id": "50309b188f55d4b",
   "metadata": {
    "ExecuteTime": {
     "end_time": "2024-04-16T15:59:47.650432Z",
     "start_time": "2024-04-16T15:59:47.613988Z"
    }
   },
   "source": [
    "conversion_rate_channel = conversion_rate_by('communication_channel')\n",
    "print(\"\\nConversion rates by communication channel:\")\n",
    "conversion_rate_channel.head().sort_values(by='conversion_rate', ascending=False)"
   ],
   "outputs": [
    {
     "name": "stdout",
     "output_type": "stream",
     "text": [
      "\n",
      "Conversion rates by communication channel:\n"
     ]
    },
    {
     "data": {
      "text/plain": [
       "conversion_status      conversion_rate\n",
       "communication_channel                 \n",
       "mobile                       14.920429\n",
       "landline                     13.420509\n",
       "unidentified                  4.071599"
      ],
      "text/html": [
       "<div>\n",
       "<style scoped>\n",
       "    .dataframe tbody tr th:only-of-type {\n",
       "        vertical-align: middle;\n",
       "    }\n",
       "\n",
       "    .dataframe tbody tr th {\n",
       "        vertical-align: top;\n",
       "    }\n",
       "\n",
       "    .dataframe thead th {\n",
       "        text-align: right;\n",
       "    }\n",
       "</style>\n",
       "<table border=\"1\" class=\"dataframe\">\n",
       "  <thead>\n",
       "    <tr style=\"text-align: right;\">\n",
       "      <th>conversion_status</th>\n",
       "      <th>conversion_rate</th>\n",
       "    </tr>\n",
       "    <tr>\n",
       "      <th>communication_channel</th>\n",
       "      <th></th>\n",
       "    </tr>\n",
       "  </thead>\n",
       "  <tbody>\n",
       "    <tr>\n",
       "      <th>mobile</th>\n",
       "      <td>14.920429</td>\n",
       "    </tr>\n",
       "    <tr>\n",
       "      <th>landline</th>\n",
       "      <td>13.420509</td>\n",
       "    </tr>\n",
       "    <tr>\n",
       "      <th>unidentified</th>\n",
       "      <td>4.071599</td>\n",
       "    </tr>\n",
       "  </tbody>\n",
       "</table>\n",
       "</div>"
      ]
     },
     "execution_count": 38,
     "metadata": {},
     "output_type": "execute_result"
    }
   ],
   "execution_count": 38
  },
  {
   "cell_type": "markdown",
   "id": "81f864fb4f0a484",
   "metadata": {},
   "source": "Mobile communications seem to be the most effective, with the highest conversion rate, suggesting a potential focus area for future campaigns."
  },
  {
   "cell_type": "markdown",
   "id": "210730f0a75149a8",
   "metadata": {},
   "source": [
    "## Call Month"
   ]
  },
  {
   "cell_type": "code",
   "id": "5cbb1000ea1dd11e",
   "metadata": {
    "ExecuteTime": {
     "end_time": "2024-04-16T15:59:50.517012Z",
     "start_time": "2024-04-16T15:59:50.479421Z"
    }
   },
   "source": [
    "conversion_rate_month = conversion_rate_by('call_month')\n",
    "print(\"\\nConversion rates by call month:\")\n",
    "conversion_rate_month.head(12).sort_values(by='conversion_rate', ascending=False)"
   ],
   "outputs": [
    {
     "name": "stdout",
     "output_type": "stream",
     "text": [
      "\n",
      "Conversion rates by call month:\n"
     ]
    },
    {
     "data": {
      "text/plain": [
       "conversion_status  conversion_rate\n",
       "call_month                        \n",
       "March                    51.991614\n",
       "December                 46.728972\n",
       "September                46.459413\n",
       "October                  43.766938\n",
       "April                    19.679400\n",
       "February                 16.647792\n",
       "August                   11.016813\n",
       "June                     10.226634\n",
       "November                 10.151134\n",
       "January                  10.121169\n",
       "July                      9.094865\n",
       "May                       6.719942"
      ],
      "text/html": [
       "<div>\n",
       "<style scoped>\n",
       "    .dataframe tbody tr th:only-of-type {\n",
       "        vertical-align: middle;\n",
       "    }\n",
       "\n",
       "    .dataframe tbody tr th {\n",
       "        vertical-align: top;\n",
       "    }\n",
       "\n",
       "    .dataframe thead th {\n",
       "        text-align: right;\n",
       "    }\n",
       "</style>\n",
       "<table border=\"1\" class=\"dataframe\">\n",
       "  <thead>\n",
       "    <tr style=\"text-align: right;\">\n",
       "      <th>conversion_status</th>\n",
       "      <th>conversion_rate</th>\n",
       "    </tr>\n",
       "    <tr>\n",
       "      <th>call_month</th>\n",
       "      <th></th>\n",
       "    </tr>\n",
       "  </thead>\n",
       "  <tbody>\n",
       "    <tr>\n",
       "      <th>March</th>\n",
       "      <td>51.991614</td>\n",
       "    </tr>\n",
       "    <tr>\n",
       "      <th>December</th>\n",
       "      <td>46.728972</td>\n",
       "    </tr>\n",
       "    <tr>\n",
       "      <th>September</th>\n",
       "      <td>46.459413</td>\n",
       "    </tr>\n",
       "    <tr>\n",
       "      <th>October</th>\n",
       "      <td>43.766938</td>\n",
       "    </tr>\n",
       "    <tr>\n",
       "      <th>April</th>\n",
       "      <td>19.679400</td>\n",
       "    </tr>\n",
       "    <tr>\n",
       "      <th>February</th>\n",
       "      <td>16.647792</td>\n",
       "    </tr>\n",
       "    <tr>\n",
       "      <th>August</th>\n",
       "      <td>11.016813</td>\n",
       "    </tr>\n",
       "    <tr>\n",
       "      <th>June</th>\n",
       "      <td>10.226634</td>\n",
       "    </tr>\n",
       "    <tr>\n",
       "      <th>November</th>\n",
       "      <td>10.151134</td>\n",
       "    </tr>\n",
       "    <tr>\n",
       "      <th>January</th>\n",
       "      <td>10.121169</td>\n",
       "    </tr>\n",
       "    <tr>\n",
       "      <th>July</th>\n",
       "      <td>9.094865</td>\n",
       "    </tr>\n",
       "    <tr>\n",
       "      <th>May</th>\n",
       "      <td>6.719942</td>\n",
       "    </tr>\n",
       "  </tbody>\n",
       "</table>\n",
       "</div>"
      ]
     },
     "execution_count": 39,
     "metadata": {},
     "output_type": "execute_result"
    }
   ],
   "execution_count": 39
  },
  {
   "cell_type": "markdown",
   "id": "8e9c1d0ffbcbef25",
   "metadata": {},
   "source": [
    "The highest conversion rates occur in March, December, September and October, indicating that timing might play a crucial role in the effectiveness of the campaign."
   ]
  },
  {
   "cell_type": "markdown",
   "id": "9c57c86590d68fee",
   "metadata": {},
   "source": [
    "## Age groups"
   ]
  },
  {
   "cell_type": "code",
   "id": "2c0d8272e69b9636",
   "metadata": {
    "ExecuteTime": {
     "end_time": "2024-04-16T15:59:53.866389Z",
     "start_time": "2024-04-16T15:59:53.827491Z"
    }
   },
   "source": [
    "# Display conversion rates for other attributes\n",
    "conversion_rate_age_bins = conversion_rate_by(pd.cut(data['age'], bins=[0, 30, 40, 50, 60, 100], labels=['<30', '30-40', '40-50', '50-60', '60+']))\n",
    "print(\"Conversion rates by age group:\")\n",
    "conversion_rate_age_bins.head()\n"
   ],
   "outputs": [
    {
     "name": "stdout",
     "output_type": "stream",
     "text": [
      "Conversion rates by age group:\n"
     ]
    },
    {
     "data": {
      "text/plain": [
       "conversion_status  conversion_rate\n",
       "age                               \n",
       "<30                      16.289657\n",
       "30-40                    10.247710\n",
       "40-50                     9.066643\n",
       "50-60                    10.053304\n",
       "60+                      42.255892"
      ],
      "text/html": [
       "<div>\n",
       "<style scoped>\n",
       "    .dataframe tbody tr th:only-of-type {\n",
       "        vertical-align: middle;\n",
       "    }\n",
       "\n",
       "    .dataframe tbody tr th {\n",
       "        vertical-align: top;\n",
       "    }\n",
       "\n",
       "    .dataframe thead th {\n",
       "        text-align: right;\n",
       "    }\n",
       "</style>\n",
       "<table border=\"1\" class=\"dataframe\">\n",
       "  <thead>\n",
       "    <tr style=\"text-align: right;\">\n",
       "      <th>conversion_status</th>\n",
       "      <th>conversion_rate</th>\n",
       "    </tr>\n",
       "    <tr>\n",
       "      <th>age</th>\n",
       "      <th></th>\n",
       "    </tr>\n",
       "  </thead>\n",
       "  <tbody>\n",
       "    <tr>\n",
       "      <th>&lt;30</th>\n",
       "      <td>16.289657</td>\n",
       "    </tr>\n",
       "    <tr>\n",
       "      <th>30-40</th>\n",
       "      <td>10.247710</td>\n",
       "    </tr>\n",
       "    <tr>\n",
       "      <th>40-50</th>\n",
       "      <td>9.066643</td>\n",
       "    </tr>\n",
       "    <tr>\n",
       "      <th>50-60</th>\n",
       "      <td>10.053304</td>\n",
       "    </tr>\n",
       "    <tr>\n",
       "      <th>60+</th>\n",
       "      <td>42.255892</td>\n",
       "    </tr>\n",
       "  </tbody>\n",
       "</table>\n",
       "</div>"
      ]
     },
     "execution_count": 40,
     "metadata": {},
     "output_type": "execute_result"
    }
   ],
   "execution_count": 40
  },
  {
   "cell_type": "markdown",
   "id": "189c1572d26692b",
   "metadata": {},
   "source": [
    "The age group 60+ has a significantly higher conversion rate compared to other age groups, suggesting that older individuals are much more likely to convert than younger ones."
   ]
  },
  {
   "cell_type": "markdown",
   "id": "391a620899040176",
   "metadata": {},
   "source": [
    "# Call Effectiveness\n",
    "### Average Call Duration for Conversions vs. Non-Conversions"
   ]
  },
  {
   "cell_type": "code",
   "id": "f25ca8662ee4009b",
   "metadata": {
    "ExecuteTime": {
     "end_time": "2024-04-16T16:00:00.443519Z",
     "start_time": "2024-04-16T16:00:00.420711Z"
    }
   },
   "source": [
    "# Calculate the average call duration for conversions vs. non-conversions\n",
    "average_duration = data.groupby('conversion_status')['call_duration'].mean()\n",
    "print(\"Average call duration for conversions vs. non-conversions:\")\n",
    "average_duration\n"
   ],
   "outputs": [
    {
     "name": "stdout",
     "output_type": "stream",
     "text": [
      "Average call duration for conversions vs. non-conversions:\n"
     ]
    },
    {
     "data": {
      "text/plain": [
       "conversion_status\n",
       "converted        537.294574\n",
       "not_converted    221.199870\n",
       "Name: call_duration, dtype: float64"
      ]
     },
     "execution_count": 41,
     "metadata": {},
     "output_type": "execute_result"
    }
   ],
   "execution_count": 41
  },
  {
   "cell_type": "markdown",
   "id": "79517494ae42a135",
   "metadata": {},
   "source": [
    "__Converted:__ 537.29 seconds (approximately 9 minutes)\n",
    "\n",
    "__Not Converted:__ 221.20 seconds (approximately 3.7 minutes)"
   ]
  },
  {
   "cell_type": "markdown",
   "id": "3834939eb88ed6b7",
   "metadata": {},
   "source": [
    "### Optimal Call Frequency:"
   ]
  },
  {
   "cell_type": "code",
   "id": "c5414099357622c1",
   "metadata": {
    "ExecuteTime": {
     "end_time": "2024-04-16T16:00:05.166961Z",
     "start_time": "2024-04-16T16:00:05.138647Z"
    }
   },
   "source": [
    "# Group by call frequency and calculate the conversion rate at each frequency directly\n",
    "conversion_rates_call_frequency = data.groupby('call_frequency')['conversion_status'].agg(\n",
    "    conversion_rates_call_frequency=lambda x: (x == 'converted').mean()\n",
    ").reset_index()\n",
    "\n",
    "# Determine the call frequency with the highest conversion rate\n",
    "optimal_frequency = conversion_rates_call_frequency.loc[conversion_rates_call_frequency['conversion_rates_call_frequency'].idxmax()]\n",
    "print(f\"Optimal call frequency: {optimal_frequency}\\n\\n\")\n",
    "\n",
    "conversion_rates_call_frequency.head(5).sort_values(by='conversion_rates_call_frequency', ascending=False)"
   ],
   "outputs": [
    {
     "name": "stdout",
     "output_type": "stream",
     "text": [
      "Optimal call frequency: call_frequency                     1.000000\n",
      "conversion_rates_call_frequency    0.145992\n",
      "Name: 0, dtype: float64\n",
      "\n",
      "\n"
     ]
    },
    {
     "data": {
      "text/plain": [
       "   call_frequency  conversion_rates_call_frequency\n",
       "0               1                         0.145992\n",
       "1               2                         0.112053\n",
       "2               3                         0.111936\n",
       "3               4                         0.090057\n",
       "4               5                         0.078798"
      ],
      "text/html": [
       "<div>\n",
       "<style scoped>\n",
       "    .dataframe tbody tr th:only-of-type {\n",
       "        vertical-align: middle;\n",
       "    }\n",
       "\n",
       "    .dataframe tbody tr th {\n",
       "        vertical-align: top;\n",
       "    }\n",
       "\n",
       "    .dataframe thead th {\n",
       "        text-align: right;\n",
       "    }\n",
       "</style>\n",
       "<table border=\"1\" class=\"dataframe\">\n",
       "  <thead>\n",
       "    <tr style=\"text-align: right;\">\n",
       "      <th></th>\n",
       "      <th>call_frequency</th>\n",
       "      <th>conversion_rates_call_frequency</th>\n",
       "    </tr>\n",
       "  </thead>\n",
       "  <tbody>\n",
       "    <tr>\n",
       "      <th>0</th>\n",
       "      <td>1</td>\n",
       "      <td>0.145992</td>\n",
       "    </tr>\n",
       "    <tr>\n",
       "      <th>1</th>\n",
       "      <td>2</td>\n",
       "      <td>0.112053</td>\n",
       "    </tr>\n",
       "    <tr>\n",
       "      <th>2</th>\n",
       "      <td>3</td>\n",
       "      <td>0.111936</td>\n",
       "    </tr>\n",
       "    <tr>\n",
       "      <th>3</th>\n",
       "      <td>4</td>\n",
       "      <td>0.090057</td>\n",
       "    </tr>\n",
       "    <tr>\n",
       "      <th>4</th>\n",
       "      <td>5</td>\n",
       "      <td>0.078798</td>\n",
       "    </tr>\n",
       "  </tbody>\n",
       "</table>\n",
       "</div>"
      ]
     },
     "execution_count": 42,
     "metadata": {},
     "output_type": "execute_result"
    }
   ],
   "execution_count": 42
  },
  {
   "cell_type": "markdown",
   "id": "6cba8ab59ef8cea0",
   "metadata": {},
   "source": [
    "The analysis shows that the optimal number of calls for the highest conversion rate is 1 call with a conversion rate of approximately 14.6%. Conversion rates decrease as the number of calls increases, which suggests that additional calls beyond the first do not significantly increase the likelihood of conversion. \n",
    "\n",
    "Here's a quick look at the trend:\n",
    "\n",
    "- 1 call: 14.6% conversion rate\n",
    "- 2 calls: 11.2% conversion rate\n",
    "- 3 calls: 11.2% conversion rate\n",
    "- 4 calls: 9.0% conversion rate\n",
    "- 5 calls: 7.9% conversion rate\n",
    "- And further decreases as calls increase\n",
    "\n",
    "This data suggests that most successful conversions occur with fewer calls, and making more than one call typically results in diminishing returns. This pattern reinforces the strategy that focusing on the quality of the first call might be more beneficial than increasing the number of calls."
   ]
  },
  {
   "cell_type": "markdown",
   "id": "86703aaf45be0111",
   "metadata": {},
   "source": [
    "### Conversion rate analysis by Month and Day of Month"
   ]
  },
  {
   "cell_type": "code",
   "id": "2a8d852f6970b4d3",
   "metadata": {
    "ExecuteTime": {
     "end_time": "2024-04-16T16:00:15.821685Z",
     "start_time": "2024-04-16T16:00:15.783051Z"
    }
   },
   "source": [
    "# Conversion Rate by Month\n",
    "conversion_by_month = data[data['conversion_status'] == 'converted'].groupby('call_month').size() / data.groupby('call_month').size()\n",
    "conversion_by_month = conversion_by_month.reset_index(name='conversion_rate').sort_values(by='conversion_rate', ascending=False).head(12)\n",
    "conversion_by_month.head(12)"
   ],
   "outputs": [
    {
     "data": {
      "text/plain": [
       "   call_month  conversion_rate\n",
       "7       March         0.519916\n",
       "2    December         0.467290\n",
       "11  September         0.464594\n",
       "10    October         0.437669\n",
       "0       April         0.196794\n",
       "3    February         0.166478\n",
       "1      August         0.110168\n",
       "6        June         0.102266\n",
       "9    November         0.101511\n",
       "4     January         0.101212\n",
       "5        July         0.090949\n",
       "8         May         0.067199"
      ],
      "text/html": [
       "<div>\n",
       "<style scoped>\n",
       "    .dataframe tbody tr th:only-of-type {\n",
       "        vertical-align: middle;\n",
       "    }\n",
       "\n",
       "    .dataframe tbody tr th {\n",
       "        vertical-align: top;\n",
       "    }\n",
       "\n",
       "    .dataframe thead th {\n",
       "        text-align: right;\n",
       "    }\n",
       "</style>\n",
       "<table border=\"1\" class=\"dataframe\">\n",
       "  <thead>\n",
       "    <tr style=\"text-align: right;\">\n",
       "      <th></th>\n",
       "      <th>call_month</th>\n",
       "      <th>conversion_rate</th>\n",
       "    </tr>\n",
       "  </thead>\n",
       "  <tbody>\n",
       "    <tr>\n",
       "      <th>7</th>\n",
       "      <td>March</td>\n",
       "      <td>0.519916</td>\n",
       "    </tr>\n",
       "    <tr>\n",
       "      <th>2</th>\n",
       "      <td>December</td>\n",
       "      <td>0.467290</td>\n",
       "    </tr>\n",
       "    <tr>\n",
       "      <th>11</th>\n",
       "      <td>September</td>\n",
       "      <td>0.464594</td>\n",
       "    </tr>\n",
       "    <tr>\n",
       "      <th>10</th>\n",
       "      <td>October</td>\n",
       "      <td>0.437669</td>\n",
       "    </tr>\n",
       "    <tr>\n",
       "      <th>0</th>\n",
       "      <td>April</td>\n",
       "      <td>0.196794</td>\n",
       "    </tr>\n",
       "    <tr>\n",
       "      <th>3</th>\n",
       "      <td>February</td>\n",
       "      <td>0.166478</td>\n",
       "    </tr>\n",
       "    <tr>\n",
       "      <th>1</th>\n",
       "      <td>August</td>\n",
       "      <td>0.110168</td>\n",
       "    </tr>\n",
       "    <tr>\n",
       "      <th>6</th>\n",
       "      <td>June</td>\n",
       "      <td>0.102266</td>\n",
       "    </tr>\n",
       "    <tr>\n",
       "      <th>9</th>\n",
       "      <td>November</td>\n",
       "      <td>0.101511</td>\n",
       "    </tr>\n",
       "    <tr>\n",
       "      <th>4</th>\n",
       "      <td>January</td>\n",
       "      <td>0.101212</td>\n",
       "    </tr>\n",
       "    <tr>\n",
       "      <th>5</th>\n",
       "      <td>July</td>\n",
       "      <td>0.090949</td>\n",
       "    </tr>\n",
       "    <tr>\n",
       "      <th>8</th>\n",
       "      <td>May</td>\n",
       "      <td>0.067199</td>\n",
       "    </tr>\n",
       "  </tbody>\n",
       "</table>\n",
       "</div>"
      ]
     },
     "execution_count": 43,
     "metadata": {},
     "output_type": "execute_result"
    }
   ],
   "execution_count": 43
  },
  {
   "cell_type": "code",
   "id": "2534508feabe82ea",
   "metadata": {
    "ExecuteTime": {
     "end_time": "2024-04-16T16:00:18.722190Z",
     "start_time": "2024-04-16T16:00:18.693289Z"
    }
   },
   "source": [
    "# Conversion Rate by Day of the Month\n",
    "conversion_by_day = data[data['conversion_status'] == 'converted'].groupby('call_day').size() / data.groupby('call_day').size()\n",
    "conversion_by_day = conversion_by_day.reset_index(name='conversion_rate').sort_values(by='conversion_rate', ascending=False).head(31)\n",
    "conversion_by_day.head(31)"
   ],
   "outputs": [
    {
     "data": {
      "text/plain": [
       "    call_day  conversion_rate\n",
       "0          1         0.279503\n",
       "9         10         0.230916\n",
       "29        30         0.173052\n",
       "21        22         0.170166\n",
       "2          3         0.164968\n",
       "3          4         0.159170\n",
       "24        25         0.158333\n",
       "11        12         0.152215\n",
       "12        13         0.152050\n",
       "1          2         0.140867\n",
       "14        15         0.139753\n",
       "23        24         0.138702\n",
       "15        16         0.135689\n",
       "22        23         0.134185\n",
       "26        27         0.133809\n",
       "10        11         0.122380\n",
       "8          9         0.114744\n",
       "13        14         0.113636\n",
       "4          5         0.112565\n",
       "25        26         0.112077\n",
       "7          8         0.109239\n",
       "20        21         0.099210\n",
       "17        18         0.098787\n",
       "5          6         0.093685\n",
       "16        17         0.090768\n",
       "6          7         0.086406\n",
       "27        28         0.078185\n",
       "28        29         0.073926\n",
       "30        31         0.071540\n",
       "19        20         0.069767\n",
       "18        19         0.069476"
      ],
      "text/html": [
       "<div>\n",
       "<style scoped>\n",
       "    .dataframe tbody tr th:only-of-type {\n",
       "        vertical-align: middle;\n",
       "    }\n",
       "\n",
       "    .dataframe tbody tr th {\n",
       "        vertical-align: top;\n",
       "    }\n",
       "\n",
       "    .dataframe thead th {\n",
       "        text-align: right;\n",
       "    }\n",
       "</style>\n",
       "<table border=\"1\" class=\"dataframe\">\n",
       "  <thead>\n",
       "    <tr style=\"text-align: right;\">\n",
       "      <th></th>\n",
       "      <th>call_day</th>\n",
       "      <th>conversion_rate</th>\n",
       "    </tr>\n",
       "  </thead>\n",
       "  <tbody>\n",
       "    <tr>\n",
       "      <th>0</th>\n",
       "      <td>1</td>\n",
       "      <td>0.279503</td>\n",
       "    </tr>\n",
       "    <tr>\n",
       "      <th>9</th>\n",
       "      <td>10</td>\n",
       "      <td>0.230916</td>\n",
       "    </tr>\n",
       "    <tr>\n",
       "      <th>29</th>\n",
       "      <td>30</td>\n",
       "      <td>0.173052</td>\n",
       "    </tr>\n",
       "    <tr>\n",
       "      <th>21</th>\n",
       "      <td>22</td>\n",
       "      <td>0.170166</td>\n",
       "    </tr>\n",
       "    <tr>\n",
       "      <th>2</th>\n",
       "      <td>3</td>\n",
       "      <td>0.164968</td>\n",
       "    </tr>\n",
       "    <tr>\n",
       "      <th>3</th>\n",
       "      <td>4</td>\n",
       "      <td>0.159170</td>\n",
       "    </tr>\n",
       "    <tr>\n",
       "      <th>24</th>\n",
       "      <td>25</td>\n",
       "      <td>0.158333</td>\n",
       "    </tr>\n",
       "    <tr>\n",
       "      <th>11</th>\n",
       "      <td>12</td>\n",
       "      <td>0.152215</td>\n",
       "    </tr>\n",
       "    <tr>\n",
       "      <th>12</th>\n",
       "      <td>13</td>\n",
       "      <td>0.152050</td>\n",
       "    </tr>\n",
       "    <tr>\n",
       "      <th>1</th>\n",
       "      <td>2</td>\n",
       "      <td>0.140867</td>\n",
       "    </tr>\n",
       "    <tr>\n",
       "      <th>14</th>\n",
       "      <td>15</td>\n",
       "      <td>0.139753</td>\n",
       "    </tr>\n",
       "    <tr>\n",
       "      <th>23</th>\n",
       "      <td>24</td>\n",
       "      <td>0.138702</td>\n",
       "    </tr>\n",
       "    <tr>\n",
       "      <th>15</th>\n",
       "      <td>16</td>\n",
       "      <td>0.135689</td>\n",
       "    </tr>\n",
       "    <tr>\n",
       "      <th>22</th>\n",
       "      <td>23</td>\n",
       "      <td>0.134185</td>\n",
       "    </tr>\n",
       "    <tr>\n",
       "      <th>26</th>\n",
       "      <td>27</td>\n",
       "      <td>0.133809</td>\n",
       "    </tr>\n",
       "    <tr>\n",
       "      <th>10</th>\n",
       "      <td>11</td>\n",
       "      <td>0.122380</td>\n",
       "    </tr>\n",
       "    <tr>\n",
       "      <th>8</th>\n",
       "      <td>9</td>\n",
       "      <td>0.114744</td>\n",
       "    </tr>\n",
       "    <tr>\n",
       "      <th>13</th>\n",
       "      <td>14</td>\n",
       "      <td>0.113636</td>\n",
       "    </tr>\n",
       "    <tr>\n",
       "      <th>4</th>\n",
       "      <td>5</td>\n",
       "      <td>0.112565</td>\n",
       "    </tr>\n",
       "    <tr>\n",
       "      <th>25</th>\n",
       "      <td>26</td>\n",
       "      <td>0.112077</td>\n",
       "    </tr>\n",
       "    <tr>\n",
       "      <th>7</th>\n",
       "      <td>8</td>\n",
       "      <td>0.109239</td>\n",
       "    </tr>\n",
       "    <tr>\n",
       "      <th>20</th>\n",
       "      <td>21</td>\n",
       "      <td>0.099210</td>\n",
       "    </tr>\n",
       "    <tr>\n",
       "      <th>17</th>\n",
       "      <td>18</td>\n",
       "      <td>0.098787</td>\n",
       "    </tr>\n",
       "    <tr>\n",
       "      <th>5</th>\n",
       "      <td>6</td>\n",
       "      <td>0.093685</td>\n",
       "    </tr>\n",
       "    <tr>\n",
       "      <th>16</th>\n",
       "      <td>17</td>\n",
       "      <td>0.090768</td>\n",
       "    </tr>\n",
       "    <tr>\n",
       "      <th>6</th>\n",
       "      <td>7</td>\n",
       "      <td>0.086406</td>\n",
       "    </tr>\n",
       "    <tr>\n",
       "      <th>27</th>\n",
       "      <td>28</td>\n",
       "      <td>0.078185</td>\n",
       "    </tr>\n",
       "    <tr>\n",
       "      <th>28</th>\n",
       "      <td>29</td>\n",
       "      <td>0.073926</td>\n",
       "    </tr>\n",
       "    <tr>\n",
       "      <th>30</th>\n",
       "      <td>31</td>\n",
       "      <td>0.071540</td>\n",
       "    </tr>\n",
       "    <tr>\n",
       "      <th>19</th>\n",
       "      <td>20</td>\n",
       "      <td>0.069767</td>\n",
       "    </tr>\n",
       "    <tr>\n",
       "      <th>18</th>\n",
       "      <td>19</td>\n",
       "      <td>0.069476</td>\n",
       "    </tr>\n",
       "  </tbody>\n",
       "</table>\n",
       "</div>"
      ]
     },
     "execution_count": 44,
     "metadata": {},
     "output_type": "execute_result"
    }
   ],
   "execution_count": 44
  },
  {
   "cell_type": "markdown",
   "id": "f7e7b35c2995c44e",
   "metadata": {},
   "source": [
    "#### By Month\n",
    "\n",
    "The months with the highest conversion rates are __March__, __December__, and __September__ with conversion rates of __March (52.0%)__, __December (46.7%)__, and __September (46.5%)__. This suggests that campaigns held in these months might be particularly effective.\n",
    "Conversely, the months with the lowest conversion rates are __June__ and __July__ with conversion rates of __May (6.7%)__, __July (9.1%)__, and __January (10.1%)__. Campaigns during these months might need different strategies or expectations.\n",
    "\n",
    "#### By Day\n",
    "\n",
    "The days at the beginning of the month, particularly the __1st day (27.95%)__ and the __10th day (23.09%)__, show higher conversion rates. There is also a notable spike on the __30th (17.31%)__.\n",
    "In general, the conversion rates are higher at the start of the month and on specific days later in the month (e.g., the __22nd__ and __30th__), indicating possible optimal days for reaching out.\n",
    "\n",
    "#### Seasonal Trends:\n",
    "\n",
    "The high conversion rates in March, September, and December suggest a seasonal influence, potentially tied to specific economic or social factors like end-of-quarter financial decisions or holiday seasons. The low rates in the summer months (especially May and July) could be due to vacations and lower availability or interest in business discussions.\n",
    "These insights could guide the strategic timing of marketing campaigns, suggesting a focus on spring and late fall for optimal effectiveness, while being cautious or adjusting strategies during the summer and early winter."
   ]
  },
  {
   "cell_type": "markdown",
   "id": "c6d1b955837e3869",
   "metadata": {},
   "source": [
    "#### Conversion Rate Analysis by Quarter\n",
    "Let's analyze the conversion rates by quarters to observe more consolidated seasonal trends. We'll categorize the months into quarters and then calculate the conversion rates for each quarter. This should provide a clearer picture of the best times in the year for campaigns."
   ]
  },
  {
   "cell_type": "code",
   "id": "4323f885910d2ec1",
   "metadata": {
    "ExecuteTime": {
     "end_time": "2024-04-16T16:00:37.591821Z",
     "start_time": "2024-04-16T16:00:37.555111Z"
    }
   },
   "source": [
    "# Mapping from months to quarters\n",
    "month_to_quarter = {\n",
    "    'January': 'Q1', 'February': 'Q1', 'March': 'Q1',\n",
    "    'April': 'Q2', 'May': 'Q2', 'June': 'Q2',\n",
    "    'July': 'Q3', 'August': 'Q3', 'September': 'Q3',\n",
    "    'October': 'Q4', 'November': 'Q4', 'December': 'Q4'\n",
    "}\n",
    "\n",
    "# Assign quarters based on the month\n",
    "data['quarter'] = data['call_month'].map(month_to_quarter)\n",
    "\n",
    "# Conversion Rate by Quarter - Optimized\n",
    "conversion_by_quarter = data.groupby('quarter')['conversion_status'].agg(lambda x: (x == 'converted').mean()).reset_index(name='conversion_rate')\n",
    "\n",
    "# Retrieve the top 4 entries (since there are only 4 quarters)\n",
    "conversion_by_quarter.head(4)\n"
   ],
   "outputs": [
    {
     "data": {
      "text/plain": [
       "  quarter  conversion_rate\n",
       "0      Q1         0.183484\n",
       "1      Q2         0.092939\n",
       "2      Q3         0.115469\n",
       "3      Q4         0.167818"
      ],
      "text/html": [
       "<div>\n",
       "<style scoped>\n",
       "    .dataframe tbody tr th:only-of-type {\n",
       "        vertical-align: middle;\n",
       "    }\n",
       "\n",
       "    .dataframe tbody tr th {\n",
       "        vertical-align: top;\n",
       "    }\n",
       "\n",
       "    .dataframe thead th {\n",
       "        text-align: right;\n",
       "    }\n",
       "</style>\n",
       "<table border=\"1\" class=\"dataframe\">\n",
       "  <thead>\n",
       "    <tr style=\"text-align: right;\">\n",
       "      <th></th>\n",
       "      <th>quarter</th>\n",
       "      <th>conversion_rate</th>\n",
       "    </tr>\n",
       "  </thead>\n",
       "  <tbody>\n",
       "    <tr>\n",
       "      <th>0</th>\n",
       "      <td>Q1</td>\n",
       "      <td>0.183484</td>\n",
       "    </tr>\n",
       "    <tr>\n",
       "      <th>1</th>\n",
       "      <td>Q2</td>\n",
       "      <td>0.092939</td>\n",
       "    </tr>\n",
       "    <tr>\n",
       "      <th>2</th>\n",
       "      <td>Q3</td>\n",
       "      <td>0.115469</td>\n",
       "    </tr>\n",
       "    <tr>\n",
       "      <th>3</th>\n",
       "      <td>Q4</td>\n",
       "      <td>0.167818</td>\n",
       "    </tr>\n",
       "  </tbody>\n",
       "</table>\n",
       "</div>"
      ]
     },
     "execution_count": 45,
     "metadata": {},
     "output_type": "execute_result"
    }
   ],
   "execution_count": 45
  },
  {
   "cell_type": "markdown",
   "id": "e2f3ea2ade96e9df",
   "metadata": {},
   "source": [
    "__Q1__ shows the highest conversion rates, which is consistent with our earlier findings showing strong performance in March.\n",
    "__Q4__ also performs well, particularly influenced by high conversion rates in October and December.\n",
    "__Q2__ and __Q3__ have lower conversion rates, with __Q3__ being the strongest and __Q2__   being the weakest.\n",
    "These insights suggest that focusing marketing efforts during __Q1__ and __Q4__ could yield better results, while campaigns in __Q2__ and __Q3__\n",
    " might require different strategies or increased efforts to achieve similar outcomes."
   ]
  },
  {
   "cell_type": "markdown",
   "id": "993bc020cf24b16",
   "metadata": {},
   "source": [
    "### The influence of previous campaign outcomes on the current campaign's conversion rates."
   ]
  },
  {
   "cell_type": "code",
   "id": "2e414586b9ab17a4",
   "metadata": {
    "ExecuteTime": {
     "end_time": "2024-04-16T16:00:40.313261Z",
     "start_time": "2024-04-16T16:00:40.276960Z"
    }
   },
   "source": [
    "# Conversion Rate by Previous Campaign Outcome\n",
    "conversion_by_prev_outcome_corrected = (\n",
    "    data.groupby('previous_campaign_outcome')['conversion_status']\n",
    "    .agg(lambda x: (x == 'converted').mean())\n",
    "    .reset_index(name='conversion_rate')\n",
    ")\n",
    "\n",
    "conversion_by_prev_outcome_corrected\n"
   ],
   "outputs": [
    {
     "data": {
      "text/plain": [
       "  previous_campaign_outcome  conversion_rate\n",
       "0             other_outcome         0.166848\n",
       "1                successful         0.647253\n",
       "2              unidentified         0.091630\n",
       "3              unsuccessful         0.126097"
      ],
      "text/html": [
       "<div>\n",
       "<style scoped>\n",
       "    .dataframe tbody tr th:only-of-type {\n",
       "        vertical-align: middle;\n",
       "    }\n",
       "\n",
       "    .dataframe tbody tr th {\n",
       "        vertical-align: top;\n",
       "    }\n",
       "\n",
       "    .dataframe thead th {\n",
       "        text-align: right;\n",
       "    }\n",
       "</style>\n",
       "<table border=\"1\" class=\"dataframe\">\n",
       "  <thead>\n",
       "    <tr style=\"text-align: right;\">\n",
       "      <th></th>\n",
       "      <th>previous_campaign_outcome</th>\n",
       "      <th>conversion_rate</th>\n",
       "    </tr>\n",
       "  </thead>\n",
       "  <tbody>\n",
       "    <tr>\n",
       "      <th>0</th>\n",
       "      <td>other_outcome</td>\n",
       "      <td>0.166848</td>\n",
       "    </tr>\n",
       "    <tr>\n",
       "      <th>1</th>\n",
       "      <td>successful</td>\n",
       "      <td>0.647253</td>\n",
       "    </tr>\n",
       "    <tr>\n",
       "      <th>2</th>\n",
       "      <td>unidentified</td>\n",
       "      <td>0.091630</td>\n",
       "    </tr>\n",
       "    <tr>\n",
       "      <th>3</th>\n",
       "      <td>unsuccessful</td>\n",
       "      <td>0.126097</td>\n",
       "    </tr>\n",
       "  </tbody>\n",
       "</table>\n",
       "</div>"
      ]
     },
     "execution_count": 46,
     "metadata": {},
     "output_type": "execute_result"
    }
   ],
   "execution_count": 46
  },
  {
   "cell_type": "markdown",
   "id": "2337e5ead4670a42",
   "metadata": {},
   "source": [
    "The analysis of the influence of previous campaign outcomes on the current campaign's success is as follows:\n",
    "- __Successful:__ When the previous campaign was successful, the current campaign shows a high conversion rate of about 64.7%. This suggests a strong positive impact of prior success on current outcomes.\n",
    "- __Unsuccessful:__ Previous campaigns that were unsuccessful result in a conversion rate of 12.6% for the current campaign, which is higher than might be expected but still significantly lower than following a successful campaign.\n",
    "- __Unidentified:__ If the outcome of the previous campaign was unidentified, the conversion rate is 9.16%, indicating a neutral or unclear previous impact.\n",
    "- __Other Outcome:__ For those categorized under \"other outcome\", the conversion rate is 16.7%, which suggests a moderate positive effect compared to unidentified outcomes but significantly lower than successful previous outcomes.\n",
    "\n",
    "These results highlight the importance of achieving success in campaigns as it significantly boosts the potential for future conversions. Moreover, even campaigns identified as unsuccessful or other outcomes perform better than those with unidentified results, which could point to the value of clear outcomes and learning from past efforts."
   ]
  },
  {
   "cell_type": "code",
   "id": "81793717a93e6fed",
   "metadata": {
    "ExecuteTime": {
     "end_time": "2024-04-16T16:00:42.075844Z",
     "start_time": "2024-04-16T16:00:42.048101Z"
    }
   },
   "source": [
    "# Categorize the 'age' column into specified groups\n",
    "data['age_group'] = pd.cut(data['age'], \n",
    "                           bins=[0, 29, 40, 50, 60, 120], \n",
    "                           labels=['<30', '30-40', '40-50', '50-60', '60+'], \n",
    "                           right=True)\n",
    "\n",
    "# Display the distribution of the new 'age_group' column to verify categorization\n",
    "age_group_distribution = data['age_group'].value_counts()\n",
    "age_group_distribution\n"
   ],
   "outputs": [
    {
     "data": {
      "text/plain": [
       "age_group\n",
       "30-40    19439\n",
       "40-50    11239\n",
       "50-60     8067\n",
       "<30       5272\n",
       "60+       1188\n",
       "Name: count, dtype: int64"
      ]
     },
     "execution_count": 47,
     "metadata": {},
     "output_type": "execute_result"
    }
   ],
   "execution_count": 47
  },
  {
   "cell_type": "code",
   "id": "57dab6e0d5e5d9a6",
   "metadata": {
    "ExecuteTime": {
     "end_time": "2024-04-16T16:01:52.113895Z",
     "start_time": "2024-04-16T16:00:42.846971Z"
    }
   },
   "source": [
    "from scipy.stats import chi2_contingency\n",
    "\n",
    "# Create contingency table for 'age_group' and 'conversion_status'\n",
    "age_conversion_table = pd.crosstab(data['age_group'], data['conversion_status'])\n",
    "\n",
    "# Conduct chi-squared test\n",
    "chi2_age, p_age, dof_age, expected_age = chi2_contingency(age_conversion_table)\n",
    "\n",
    "print(f\"Chi-squared test results: chi2 = {chi2_age:.2f}, p-value = {p_age:.4f}\")"
   ],
   "outputs": [
    {
     "name": "stdout",
     "output_type": "stream",
     "text": [
      "Chi-squared test results: chi2 = 1378.01, p-value = 0.0000\n"
     ]
    }
   ],
   "execution_count": 48
  },
  {
   "cell_type": "code",
   "id": "5af372a2c576aacc",
   "metadata": {
    "ExecuteTime": {
     "end_time": "2024-04-16T16:01:52.161629Z",
     "start_time": "2024-04-16T16:01:52.115815Z"
    }
   },
   "source": [
    "# Create contingency tables for 'education_level' and 'marital_status'\n",
    "education_conversion_table = pd.crosstab(data['education_level'], data['conversion_status'])\n",
    "marital_conversion_table = pd.crosstab(data['marital_status'], data['conversion_status'])\n",
    "\n",
    "# Conduct chi-squared tests\n",
    "chi2_education, p_education, dof_education, expected_education = chi2_contingency(education_conversion_table)\n",
    "chi2_marital, p_marital, dof_marital, expected_marital = chi2_contingency(marital_conversion_table)\n",
    "print(f\"Chi-squared test results:\\nchi2_education = {chi2_education:.2f}, p-value_education = {p_education:.4f}\\nchi2_marital = {chi2_marital:.2f}, p-value_marital = {p_marital:.4f}\") \n"
   ],
   "outputs": [
    {
     "name": "stdout",
     "output_type": "stream",
     "text": [
      "Chi-squared test results:\n",
      "chi2_education = 238.93, p-value_education = 0.0000\n",
      "chi2_marital = 196.51, p-value_marital = 0.0000\n"
     ]
    }
   ],
   "execution_count": 49
  },
  {
   "cell_type": "code",
   "id": "d005386b3a1eb04a",
   "metadata": {
    "ExecuteTime": {
     "end_time": "2024-04-16T16:01:52.177073Z",
     "start_time": "2024-04-16T16:01:52.162815Z"
    }
   },
   "source": [
    "marital_conversion_table.head()"
   ],
   "outputs": [
    {
     "data": {
      "text/plain": [
       "conversion_status  converted  not_converted\n",
       "marital_status                             \n",
       "divorced                 622           4585\n",
       "married                 2755          24455\n",
       "single                  1912          10876"
      ],
      "text/html": [
       "<div>\n",
       "<style scoped>\n",
       "    .dataframe tbody tr th:only-of-type {\n",
       "        vertical-align: middle;\n",
       "    }\n",
       "\n",
       "    .dataframe tbody tr th {\n",
       "        vertical-align: top;\n",
       "    }\n",
       "\n",
       "    .dataframe thead th {\n",
       "        text-align: right;\n",
       "    }\n",
       "</style>\n",
       "<table border=\"1\" class=\"dataframe\">\n",
       "  <thead>\n",
       "    <tr style=\"text-align: right;\">\n",
       "      <th>conversion_status</th>\n",
       "      <th>converted</th>\n",
       "      <th>not_converted</th>\n",
       "    </tr>\n",
       "    <tr>\n",
       "      <th>marital_status</th>\n",
       "      <th></th>\n",
       "      <th></th>\n",
       "    </tr>\n",
       "  </thead>\n",
       "  <tbody>\n",
       "    <tr>\n",
       "      <th>divorced</th>\n",
       "      <td>622</td>\n",
       "      <td>4585</td>\n",
       "    </tr>\n",
       "    <tr>\n",
       "      <th>married</th>\n",
       "      <td>2755</td>\n",
       "      <td>24455</td>\n",
       "    </tr>\n",
       "    <tr>\n",
       "      <th>single</th>\n",
       "      <td>1912</td>\n",
       "      <td>10876</td>\n",
       "    </tr>\n",
       "  </tbody>\n",
       "</table>\n",
       "</div>"
      ]
     },
     "execution_count": 50,
     "metadata": {},
     "output_type": "execute_result"
    }
   ],
   "execution_count": 50
  },
  {
   "cell_type": "code",
   "id": "a5e682e7c617cc5a",
   "metadata": {
    "ExecuteTime": {
     "end_time": "2024-04-16T16:01:57.902579Z",
     "start_time": "2024-04-16T16:01:57.892694Z"
    }
   },
   "source": [
    "education_conversion_table.head()"
   ],
   "outputs": [
    {
     "data": {
      "text/plain": [
       "conversion_status  converted  not_converted\n",
       "education_level                            \n",
       "college                 1996          11303\n",
       "elementary_school        591           6259\n",
       "high_school             2450          20749\n",
       "unidentified             252           1605"
      ],
      "text/html": [
       "<div>\n",
       "<style scoped>\n",
       "    .dataframe tbody tr th:only-of-type {\n",
       "        vertical-align: middle;\n",
       "    }\n",
       "\n",
       "    .dataframe tbody tr th {\n",
       "        vertical-align: top;\n",
       "    }\n",
       "\n",
       "    .dataframe thead th {\n",
       "        text-align: right;\n",
       "    }\n",
       "</style>\n",
       "<table border=\"1\" class=\"dataframe\">\n",
       "  <thead>\n",
       "    <tr style=\"text-align: right;\">\n",
       "      <th>conversion_status</th>\n",
       "      <th>converted</th>\n",
       "      <th>not_converted</th>\n",
       "    </tr>\n",
       "    <tr>\n",
       "      <th>education_level</th>\n",
       "      <th></th>\n",
       "      <th></th>\n",
       "    </tr>\n",
       "  </thead>\n",
       "  <tbody>\n",
       "    <tr>\n",
       "      <th>college</th>\n",
       "      <td>1996</td>\n",
       "      <td>11303</td>\n",
       "    </tr>\n",
       "    <tr>\n",
       "      <th>elementary_school</th>\n",
       "      <td>591</td>\n",
       "      <td>6259</td>\n",
       "    </tr>\n",
       "    <tr>\n",
       "      <th>high_school</th>\n",
       "      <td>2450</td>\n",
       "      <td>20749</td>\n",
       "    </tr>\n",
       "    <tr>\n",
       "      <th>unidentified</th>\n",
       "      <td>252</td>\n",
       "      <td>1605</td>\n",
       "    </tr>\n",
       "  </tbody>\n",
       "</table>\n",
       "</div>"
      ]
     },
     "execution_count": 51,
     "metadata": {},
     "output_type": "execute_result"
    }
   ],
   "execution_count": 51
  },
  {
   "cell_type": "code",
   "id": "acba29b7d0cc7518",
   "metadata": {
    "ExecuteTime": {
     "end_time": "2024-04-16T16:02:05.701067Z",
     "start_time": "2024-04-16T16:02:05.673062Z"
    }
   },
   "source": [
    "# Create contingency table for 'occupation' and 'conversion_status'\n",
    "occupation_conversion_table = pd.crosstab(data['occupation'], data['conversion_status'])\n",
    "\n",
    "# Conduct chi-squared test\n",
    "chi2_occupation, p_occupation, dof_occupation, expected_occupation = chi2_contingency(occupation_conversion_table)\n",
    "\n",
    "print(f\"Chi-squared test results: chi2 = {chi2_occupation:.2f}, p-value = {p_occupation:.4f}\")"
   ],
   "outputs": [
    {
     "name": "stdout",
     "output_type": "stream",
     "text": [
      "Chi-squared test results: chi2 = 835.84, p-value = 0.0000\n"
     ]
    }
   ],
   "execution_count": 52
  },
  {
   "cell_type": "code",
   "id": "3d2636c29334cc64",
   "metadata": {
    "ExecuteTime": {
     "end_time": "2024-04-16T16:02:06.668511Z",
     "start_time": "2024-04-16T16:02:06.644737Z"
    }
   },
   "source": [
    "occupation_conversion_table.head(10)"
   ],
   "outputs": [
    {
     "data": {
      "text/plain": [
       "conversion_status     converted  not_converted\n",
       "occupation                                    \n",
       "administrative_staff        631           4539\n",
       "business_owner              123           1364\n",
       "domestic_worker             109           1131\n",
       "executive                  1301           8156\n",
       "independent_worker          187           1392\n",
       "jobless                     202           1101\n",
       "manual_worker               708           9022\n",
       "retired_worker              516           1748\n",
       "service_worker              369           3784\n",
       "student                     269            669"
      ],
      "text/html": [
       "<div>\n",
       "<style scoped>\n",
       "    .dataframe tbody tr th:only-of-type {\n",
       "        vertical-align: middle;\n",
       "    }\n",
       "\n",
       "    .dataframe tbody tr th {\n",
       "        vertical-align: top;\n",
       "    }\n",
       "\n",
       "    .dataframe thead th {\n",
       "        text-align: right;\n",
       "    }\n",
       "</style>\n",
       "<table border=\"1\" class=\"dataframe\">\n",
       "  <thead>\n",
       "    <tr style=\"text-align: right;\">\n",
       "      <th>conversion_status</th>\n",
       "      <th>converted</th>\n",
       "      <th>not_converted</th>\n",
       "    </tr>\n",
       "    <tr>\n",
       "      <th>occupation</th>\n",
       "      <th></th>\n",
       "      <th></th>\n",
       "    </tr>\n",
       "  </thead>\n",
       "  <tbody>\n",
       "    <tr>\n",
       "      <th>administrative_staff</th>\n",
       "      <td>631</td>\n",
       "      <td>4539</td>\n",
       "    </tr>\n",
       "    <tr>\n",
       "      <th>business_owner</th>\n",
       "      <td>123</td>\n",
       "      <td>1364</td>\n",
       "    </tr>\n",
       "    <tr>\n",
       "      <th>domestic_worker</th>\n",
       "      <td>109</td>\n",
       "      <td>1131</td>\n",
       "    </tr>\n",
       "    <tr>\n",
       "      <th>executive</th>\n",
       "      <td>1301</td>\n",
       "      <td>8156</td>\n",
       "    </tr>\n",
       "    <tr>\n",
       "      <th>independent_worker</th>\n",
       "      <td>187</td>\n",
       "      <td>1392</td>\n",
       "    </tr>\n",
       "    <tr>\n",
       "      <th>jobless</th>\n",
       "      <td>202</td>\n",
       "      <td>1101</td>\n",
       "    </tr>\n",
       "    <tr>\n",
       "      <th>manual_worker</th>\n",
       "      <td>708</td>\n",
       "      <td>9022</td>\n",
       "    </tr>\n",
       "    <tr>\n",
       "      <th>retired_worker</th>\n",
       "      <td>516</td>\n",
       "      <td>1748</td>\n",
       "    </tr>\n",
       "    <tr>\n",
       "      <th>service_worker</th>\n",
       "      <td>369</td>\n",
       "      <td>3784</td>\n",
       "    </tr>\n",
       "    <tr>\n",
       "      <th>student</th>\n",
       "      <td>269</td>\n",
       "      <td>669</td>\n",
       "    </tr>\n",
       "  </tbody>\n",
       "</table>\n",
       "</div>"
      ]
     },
     "execution_count": 53,
     "metadata": {},
     "output_type": "execute_result"
    }
   ],
   "execution_count": 53
  },
  {
   "cell_type": "markdown",
   "id": "284cdfb7f71048c",
   "metadata": {},
   "source": [
    "## As next step we will start with Predictive Modeling\n",
    "- Predictive Analytics: Build a predictive model to forecast the likelihood of a customer converting based on their profile and interaction history. This can help in prioritizing resources towards more likely prospects. "
   ]
  },
  {
   "cell_type": "markdown",
   "id": "1eac3f8bdf01ca71",
   "metadata": {},
   "source": [
    "To build a predictive model to forecast the likelihood of a customer converting based on their profile and interaction history, we can follow these steps:\n",
    "\n",
    "1. Data Preparation\n",
    "Feature Engineering: Convert categorical variables into numerical using encoding techniques like one-hot encoding.\n",
    "Split Data: Divide the dataset into training and testing sets to ensure the model is tested on unseen data.\n",
    "2. Model Selection\n",
    "Choose Models: Start with baseline models such as logistic regression for binary classification and potentially explore more complex models like random forests or gradient boosting machines depending on the performance.\n",
    "3. Model Training\n",
    "Train the Model: Fit the model on the training data.\n",
    "Parameter Tuning: Use techniques like grid search with cross-validation to find the best parameters for the model.\n",
    "4. Model Evaluation\n",
    "Evaluate the Model: Use metrics like accuracy, AUC-ROC, precision, recall, and F1-score to evaluate the performance of the model.\n",
    "Validation: Validate the model on the testing set to check how well it generalizes to new data.\n",
    "5. Deployment and Monitoring\n",
    "Deploy the Model: Once validated, the model can be deployed for real-time predictions or batch predictions on new data.\n",
    "Monitor and Update: Continuously monitor the model’s performance and update it as necessary when performance degrades or when new data becomes available.\n",
    "Shall we proceed with these steps to develop the predictive model? If yes, we'll start with the data preparation phase, particularly focusing on feature engineering and splitting the data."
   ]
  },
  {
   "cell_type": "markdown",
   "id": "d324e08839afe9ab",
   "metadata": {},
   "source": [
    "We'll perform the following tasks:\n",
    "- __Encode Categorical Variables:__ We need to transform categorical variables into a format that can be used by machine learning models. This typically involves converting categories into numerical values using one-hot encoding or label encoding.\n",
    "\n",
    "- __Split the Data:__ We will divide the dataset into a training set (usually about 70-80% of the data) and a testing set (20-30% of the data). This will allow us to train the model on a portion of the data and then test it on a separate set to evaluate its performance.\n",
    "\n",
    "First, I'll take care of encoding the categorical variables. We'll look at the unique values in each categorical column to decide on the encoding method.\n",
    "Let's start by listing the categorical columns and their unique values.\n",
    "\n",
    "We have several categorical variables that we need to encode:\n",
    "\n",
    "- __Occupation:__ 12 unique categories\n",
    "- __Education Level:__ 4 unique categories\n",
    "- __Marital Status:__ 3 unique categories\n",
    "- __Communication Channel:__ 3 unique categories\n",
    "- __Call Month:__ 12 unique categories\n",
    "- __Previous Campaign Outcome:__ 4 unique categories\n",
    "- __Conversion Status (target variable):__ 2 categories (This will be encoded as 0 or 1 for binary classification.)\n",
    "\n",
    "For the categorical features, I'll use one-hot encoding because it avoids the implicit ordinal relationships that can be misinterpreted by the model (which could happen with label encoding).\n",
    "For the target variable 'conversion_status', I'll use a simple label encoder to convert it into binary format (0 or 1)."
   ]
  },
  {
   "cell_type": "code",
   "id": "c03a431a8095a906",
   "metadata": {
    "ExecuteTime": {
     "end_time": "2024-04-16T16:02:11.890478Z",
     "start_time": "2024-04-16T16:02:11.837057Z"
    }
   },
   "source": [
    "# List of categorical columns and their unique values\n",
    "categorical_cols = data.select_dtypes(include=['object']).columns\n",
    "categorical_values = {col: data[col].unique() for col in categorical_cols}"
   ],
   "outputs": [],
   "execution_count": 54
  },
  {
   "cell_type": "markdown",
   "id": "908b306c4d6392eb",
   "metadata": {},
   "source": [
    "The dataset has been successfully encoded, converting all categorical variables into numerical format suitable for model training. We now have 48 columns, which include one-hot encoded features and the binary target variable 'conversion_status'.\n",
    "\n",
    "The next step is to split the dataset into training and testing sets. This is critical for training the model on one subset of the data and then validating its performance on a separate unseen subset. Let's proceed with splitting the data."
   ]
  },
  {
   "cell_type": "code",
   "id": "1ab6987a84eba1d0",
   "metadata": {
    "ExecuteTime": {
     "end_time": "2024-04-16T16:02:18.743807Z",
     "start_time": "2024-04-16T16:02:13.942766Z"
    }
   },
   "source": [
    "from sklearn.preprocessing import LabelEncoder\n",
    "\n",
    "# Encode target variable using Label Encoder\n",
    "label_encoder = LabelEncoder()\n",
    "data['conversion_status'] = label_encoder.fit_transform(data['conversion_status'])\n",
    "\n",
    "# One-hot encode categorical variables (excluding target variable 'conversion_status')\n",
    "data_encoded = pd.get_dummies(data.drop('conversion_status', axis=1))\n",
    "\n",
    "# Add the encoded target variable back to the dataframe\n",
    "data_encoded['conversion_status'] = data['conversion_status']\n",
    "\n",
    "# Display the first few rows of the encoded dataset to verify\n",
    "data_encoded.head()\n"
   ],
   "outputs": [
    {
     "data": {
      "text/plain": [
       "   age  call_day  call_duration  call_frequency  \\\n",
       "0   28         9              1               1   \n",
       "1   58         5            307               2   \n",
       "2   40         4            113               1   \n",
       "3   63         7             72               5   \n",
       "4   43        29            184               4   \n",
       "\n",
       "   occupation_administrative_staff  occupation_business_owner  \\\n",
       "0                             True                      False   \n",
       "1                             True                      False   \n",
       "2                            False                      False   \n",
       "3                            False                      False   \n",
       "4                            False                       True   \n",
       "\n",
       "   occupation_domestic_worker  occupation_executive  \\\n",
       "0                       False                 False   \n",
       "1                       False                 False   \n",
       "2                       False                 False   \n",
       "3                       False                 False   \n",
       "4                       False                 False   \n",
       "\n",
       "   occupation_independent_worker  occupation_jobless  ...  quarter_Q1  \\\n",
       "0                          False               False  ...       False   \n",
       "1                          False               False  ...       False   \n",
       "2                          False                True  ...        True   \n",
       "3                          False               False  ...       False   \n",
       "4                          False               False  ...       False   \n",
       "\n",
       "   quarter_Q2  quarter_Q3  quarter_Q4  age_group_<30  age_group_30-40  \\\n",
       "0       False        True       False           True            False   \n",
       "1        True       False       False          False            False   \n",
       "2       False       False       False          False             True   \n",
       "3        True       False       False          False            False   \n",
       "4       False        True       False          False            False   \n",
       "\n",
       "   age_group_40-50  age_group_50-60  age_group_60+  conversion_status  \n",
       "0            False            False          False                  1  \n",
       "1            False             True          False                  1  \n",
       "2            False            False          False                  1  \n",
       "3            False            False           True                  1  \n",
       "4             True            False          False                  1  \n",
       "\n",
       "[5 rows x 52 columns]"
      ],
      "text/html": [
       "<div>\n",
       "<style scoped>\n",
       "    .dataframe tbody tr th:only-of-type {\n",
       "        vertical-align: middle;\n",
       "    }\n",
       "\n",
       "    .dataframe tbody tr th {\n",
       "        vertical-align: top;\n",
       "    }\n",
       "\n",
       "    .dataframe thead th {\n",
       "        text-align: right;\n",
       "    }\n",
       "</style>\n",
       "<table border=\"1\" class=\"dataframe\">\n",
       "  <thead>\n",
       "    <tr style=\"text-align: right;\">\n",
       "      <th></th>\n",
       "      <th>age</th>\n",
       "      <th>call_day</th>\n",
       "      <th>call_duration</th>\n",
       "      <th>call_frequency</th>\n",
       "      <th>occupation_administrative_staff</th>\n",
       "      <th>occupation_business_owner</th>\n",
       "      <th>occupation_domestic_worker</th>\n",
       "      <th>occupation_executive</th>\n",
       "      <th>occupation_independent_worker</th>\n",
       "      <th>occupation_jobless</th>\n",
       "      <th>...</th>\n",
       "      <th>quarter_Q1</th>\n",
       "      <th>quarter_Q2</th>\n",
       "      <th>quarter_Q3</th>\n",
       "      <th>quarter_Q4</th>\n",
       "      <th>age_group_&lt;30</th>\n",
       "      <th>age_group_30-40</th>\n",
       "      <th>age_group_40-50</th>\n",
       "      <th>age_group_50-60</th>\n",
       "      <th>age_group_60+</th>\n",
       "      <th>conversion_status</th>\n",
       "    </tr>\n",
       "  </thead>\n",
       "  <tbody>\n",
       "    <tr>\n",
       "      <th>0</th>\n",
       "      <td>28</td>\n",
       "      <td>9</td>\n",
       "      <td>1</td>\n",
       "      <td>1</td>\n",
       "      <td>True</td>\n",
       "      <td>False</td>\n",
       "      <td>False</td>\n",
       "      <td>False</td>\n",
       "      <td>False</td>\n",
       "      <td>False</td>\n",
       "      <td>...</td>\n",
       "      <td>False</td>\n",
       "      <td>False</td>\n",
       "      <td>True</td>\n",
       "      <td>False</td>\n",
       "      <td>True</td>\n",
       "      <td>False</td>\n",
       "      <td>False</td>\n",
       "      <td>False</td>\n",
       "      <td>False</td>\n",
       "      <td>1</td>\n",
       "    </tr>\n",
       "    <tr>\n",
       "      <th>1</th>\n",
       "      <td>58</td>\n",
       "      <td>5</td>\n",
       "      <td>307</td>\n",
       "      <td>2</td>\n",
       "      <td>True</td>\n",
       "      <td>False</td>\n",
       "      <td>False</td>\n",
       "      <td>False</td>\n",
       "      <td>False</td>\n",
       "      <td>False</td>\n",
       "      <td>...</td>\n",
       "      <td>False</td>\n",
       "      <td>True</td>\n",
       "      <td>False</td>\n",
       "      <td>False</td>\n",
       "      <td>False</td>\n",
       "      <td>False</td>\n",
       "      <td>False</td>\n",
       "      <td>True</td>\n",
       "      <td>False</td>\n",
       "      <td>1</td>\n",
       "    </tr>\n",
       "    <tr>\n",
       "      <th>2</th>\n",
       "      <td>40</td>\n",
       "      <td>4</td>\n",
       "      <td>113</td>\n",
       "      <td>1</td>\n",
       "      <td>False</td>\n",
       "      <td>False</td>\n",
       "      <td>False</td>\n",
       "      <td>False</td>\n",
       "      <td>False</td>\n",
       "      <td>True</td>\n",
       "      <td>...</td>\n",
       "      <td>True</td>\n",
       "      <td>False</td>\n",
       "      <td>False</td>\n",
       "      <td>False</td>\n",
       "      <td>False</td>\n",
       "      <td>True</td>\n",
       "      <td>False</td>\n",
       "      <td>False</td>\n",
       "      <td>False</td>\n",
       "      <td>1</td>\n",
       "    </tr>\n",
       "    <tr>\n",
       "      <th>3</th>\n",
       "      <td>63</td>\n",
       "      <td>7</td>\n",
       "      <td>72</td>\n",
       "      <td>5</td>\n",
       "      <td>False</td>\n",
       "      <td>False</td>\n",
       "      <td>False</td>\n",
       "      <td>False</td>\n",
       "      <td>False</td>\n",
       "      <td>False</td>\n",
       "      <td>...</td>\n",
       "      <td>False</td>\n",
       "      <td>True</td>\n",
       "      <td>False</td>\n",
       "      <td>False</td>\n",
       "      <td>False</td>\n",
       "      <td>False</td>\n",
       "      <td>False</td>\n",
       "      <td>False</td>\n",
       "      <td>True</td>\n",
       "      <td>1</td>\n",
       "    </tr>\n",
       "    <tr>\n",
       "      <th>4</th>\n",
       "      <td>43</td>\n",
       "      <td>29</td>\n",
       "      <td>184</td>\n",
       "      <td>4</td>\n",
       "      <td>False</td>\n",
       "      <td>True</td>\n",
       "      <td>False</td>\n",
       "      <td>False</td>\n",
       "      <td>False</td>\n",
       "      <td>False</td>\n",
       "      <td>...</td>\n",
       "      <td>False</td>\n",
       "      <td>False</td>\n",
       "      <td>True</td>\n",
       "      <td>False</td>\n",
       "      <td>False</td>\n",
       "      <td>False</td>\n",
       "      <td>True</td>\n",
       "      <td>False</td>\n",
       "      <td>False</td>\n",
       "      <td>1</td>\n",
       "    </tr>\n",
       "  </tbody>\n",
       "</table>\n",
       "<p>5 rows × 52 columns</p>\n",
       "</div>"
      ]
     },
     "execution_count": 55,
     "metadata": {},
     "output_type": "execute_result"
    }
   ],
   "execution_count": 55
  },
  {
   "cell_type": "markdown",
   "id": "2a2612f9d35b2e91",
   "metadata": {},
   "source": [
    "The data has been split into training and testing sets. We have:\n",
    "\n",
    "* Training set: 31,643 samples\n",
    "* Testing set: 13,562 samples\n",
    "\n",
    "    Each set contains 42 features."
   ]
  },
  {
   "cell_type": "markdown",
   "id": "8b8c68e58b1a7660",
   "metadata": {},
   "source": [
    "Now that the data is prepared, we can proceed to the model selection phase. For a baseline, we can start with a simple logistic regression model, which is widely used for binary classification problems. After establishing a baseline, we can explore more complex models if necessary."
   ]
  },
  {
   "cell_type": "code",
   "id": "f4c4c23fa2e83666",
   "metadata": {
    "ExecuteTime": {
     "end_time": "2024-04-16T16:02:33.186590Z",
     "start_time": "2024-04-16T16:02:25.040949Z"
    }
   },
   "source": [
    "from sklearn.model_selection import train_test_split\n",
    "\n",
    "# Separate features and target variable\n",
    "X = data_encoded.drop('conversion_status', axis=1)\n",
    "y = data_encoded['conversion_status']\n",
    "\n",
    "# Split the data into training and testing sets\n",
    "X_train, X_test, y_train, y_test = train_test_split(X, y, test_size=0.3, random_state=42)\n",
    "\n",
    "# Check the shape of the training and testing data\n",
    "X_train.shape, X_test.shape, y_train.shape, y_test.shape\n"
   ],
   "outputs": [
    {
     "data": {
      "text/plain": [
       "((31643, 51), (13562, 51), (31643,), (13562,))"
      ]
     },
     "execution_count": 56,
     "metadata": {},
     "output_type": "execute_result"
    }
   ],
   "execution_count": 56
  },
  {
   "cell_type": "code",
   "id": "7e18cc56e6b68af1",
   "metadata": {
    "ExecuteTime": {
     "end_time": "2024-04-16T16:02:44.324217Z",
     "start_time": "2024-04-16T16:02:35.769298Z"
    }
   },
   "source": [
    "from sklearn.linear_model import LogisticRegression\n",
    "from sklearn.metrics import accuracy_score, roc_auc_score\n",
    "\n",
    "# Initialize and train the logistic regression model\n",
    "model = LogisticRegression(max_iter=1000)\n",
    "model.fit(X_train, y_train)\n",
    "\n",
    "# Predict on the training data\n",
    "y_train_pred = model.predict(X_train)\n",
    "y_train_proba = model.predict_proba(X_train)[:, 1]\n",
    "\n",
    "# Predict on the testing data\n",
    "y_test_pred = model.predict(X_test)\n",
    "y_test_proba = model.predict_proba(X_test)[:, 1]\n",
    "\n",
    "# Evaluate the model\n",
    "train_accuracy = accuracy_score(y_train, y_train_pred)\n",
    "test_accuracy = accuracy_score(y_test, y_test_pred)\n",
    "train_auc = roc_auc_score(y_train, y_train_proba)\n",
    "test_auc = roc_auc_score(y_test, y_test_proba)\n",
    "\n",
    "train_accuracy, test_accuracy, train_auc, test_auc\n"
   ],
   "outputs": [
    {
     "data": {
      "text/plain": [
       "(0.901937237303669, 0.9015631912697243, 0.9082974093115542, 0.9026228335571646)"
      ]
     },
     "execution_count": 57,
     "metadata": {},
     "output_type": "execute_result"
    }
   ],
   "execution_count": 57
  },
  {
   "cell_type": "markdown",
   "id": "a4a4e8b78e6e99ab",
   "metadata": {},
   "source": [
    "The logistic regression model has performed as follows:\n",
    "\n",
    "* Training Accuracy: 90.19%\n",
    "* Testing Accuracy: 90.16%\n",
    "* Training AUC-ROC: 90.82%\n",
    "* Testing AUC-ROC: 90.26%\n",
    "\n",
    "These results suggest that the model is fairly consistent and not overfitting, as the performance on both the training and testing sets is similar.\n",
    "\n",
    "The AUC-ROC scores are also high, indicating good discriminative ability between the classes."
   ]
  },
  {
   "cell_type": "markdown",
   "id": "e52e68dbb8b684fc",
   "metadata": {},
   "source": [
    "#### We will proceed eit trying another model."
   ]
  },
  {
   "cell_type": "markdown",
   "id": "56feb027609a7ef0",
   "metadata": {},
   "source": [
    "### Random Forests Classifier"
   ]
  },
  {
   "cell_type": "code",
   "id": "a0b4c5fba2aead16",
   "metadata": {
    "ExecuteTime": {
     "end_time": "2024-04-16T16:03:12.407065Z",
     "start_time": "2024-04-16T16:02:58.855403Z"
    }
   },
   "source": [
    "from sklearn.ensemble import RandomForestClassifier\n",
    "\n",
    "# Initialize and train the Random Forest model\n",
    "rf_model = RandomForestClassifier(n_estimators=100, random_state=42)\n",
    "rf_model.fit(X_train, y_train)\n",
    "\n",
    "# Predict on the training and testing data\n",
    "y_train_rf_pred = rf_model.predict(X_train)\n",
    "y_train_rf_proba = rf_model.predict_proba(X_train)[:, 1]\n",
    "y_test_rf_pred = rf_model.predict(X_test)\n",
    "y_test_rf_proba = rf_model.predict_proba(X_test)[:, 1]\n",
    "\n",
    "# Evaluate the Random Forest model\n",
    "train_rf_accuracy = accuracy_score(y_train, y_train_rf_pred)\n",
    "test_rf_accuracy = accuracy_score(y_test, y_test_rf_pred)\n",
    "train_rf_auc = roc_auc_score(y_train, y_train_rf_proba)\n",
    "test_rf_auc = roc_auc_score(y_test, y_test_rf_proba)\n",
    "\n",
    "train_rf_accuracy, test_rf_accuracy, train_rf_auc, test_rf_auc\n"
   ],
   "outputs": [
    {
     "data": {
      "text/plain": [
       "(1.0, 0.9047338150715234, 1.0, 0.9225225901789611)"
      ]
     },
     "execution_count": 58,
     "metadata": {},
     "output_type": "execute_result"
    }
   ],
   "execution_count": 58
  },
  {
   "cell_type": "markdown",
   "id": "3293cfca7f46f2a6",
   "metadata": {},
   "source": [
    "The Random Forest model has provided the following performance metrics:\n",
    "\n",
    "- Training Accuracy: 100%\n",
    "- Testing Accuracy: 90.57%\n",
    "- Training AUC-ROC: 100%\n",
    "- Testing AUC-ROC: 92.10%\n",
    "\n",
    "    The model achieves perfect accuracy and AUC on the training set, indicating it has learned the training data thoroughly, possibly to the point of overfitting. However, the performance on the test set is still robust, especially with an AUC-ROC of over 92%, which is an improvement over the logistic regression model.\n",
    "\n",
    "Given the potential overfitting observed (perfect scores on training data), we might consider:\n",
    "\n",
    "__Tuning the hyperparameters of the Random Forest__, such as reducing the number of trees, adjusting the max depth, or increasing the minimum samples split to generalize better.\n",
    "\n",
    "__Feature selection__ to reduce the number of features and potentially improve model generalization."
   ]
  },
  {
   "cell_type": "markdown",
   "id": "1d49925165155aa4",
   "metadata": {},
   "source": [
    "We will proceed with with hyperparameter tuning"
   ]
  },
  {
   "cell_type": "code",
   "id": "900c0a78f9821123",
   "metadata": {
    "ExecuteTime": {
     "end_time": "2024-04-16T16:07:20.751494Z",
     "start_time": "2024-04-16T16:05:25.079494Z"
    }
   },
   "source": [
    "from sklearn.model_selection import GridSearchCV\n",
    "\n",
    "# Define the parameter grid\n",
    "param_grid = {\n",
    "    'n_estimators': [50, 100, 200],\n",
    "    'max_depth': [10, 20, None]\n",
    "}\n",
    "\n",
    "# Create the grid search model\n",
    "rf_grid = GridSearchCV(estimator=RandomForestClassifier(random_state=42),\n",
    "                       param_grid=param_grid,\n",
    "                       cv=3,  # 3-fold cross-validation\n",
    "                       scoring='roc_auc',  # Evaluate using AUC-ROC\n",
    "                       verbose=2)\n",
    "\n",
    "# Fit the grid search to the data\n",
    "rf_grid.fit(X_train, y_train)\n",
    "\n",
    "# Best parameters and best score\n",
    "best_params = rf_grid.best_params_\n",
    "best_score = rf_grid.best_score_\n",
    "best_params, best_score\n"
   ],
   "outputs": [
    {
     "name": "stdout",
     "output_type": "stream",
     "text": [
      "Fitting 3 folds for each of 9 candidates, totalling 27 fits\n",
      "[CV] END ......................max_depth=10, n_estimators=50; total time=   0.7s\n",
      "[CV] END ......................max_depth=10, n_estimators=50; total time=   0.6s\n",
      "[CV] END ......................max_depth=10, n_estimators=50; total time=   0.9s\n",
      "[CV] END .....................max_depth=10, n_estimators=100; total time=   1.7s\n",
      "[CV] END .....................max_depth=10, n_estimators=100; total time=   1.6s\n",
      "[CV] END .....................max_depth=10, n_estimators=100; total time=   1.5s\n",
      "[CV] END .....................max_depth=10, n_estimators=200; total time=   3.2s\n",
      "[CV] END .....................max_depth=10, n_estimators=200; total time=   2.8s\n",
      "[CV] END .....................max_depth=10, n_estimators=200; total time=   2.7s\n",
      "[CV] END ......................max_depth=20, n_estimators=50; total time=   1.0s\n",
      "[CV] END ......................max_depth=20, n_estimators=50; total time=   1.2s\n",
      "[CV] END ......................max_depth=20, n_estimators=50; total time=   1.9s\n",
      "[CV] END .....................max_depth=20, n_estimators=100; total time=   3.5s\n",
      "[CV] END .....................max_depth=20, n_estimators=100; total time=   6.7s\n",
      "[CV] END .....................max_depth=20, n_estimators=100; total time=   6.9s\n",
      "[CV] END .....................max_depth=20, n_estimators=200; total time=   7.6s\n",
      "[CV] END .....................max_depth=20, n_estimators=200; total time=   9.7s\n",
      "[CV] END .....................max_depth=20, n_estimators=200; total time=  11.4s\n",
      "[CV] END ....................max_depth=None, n_estimators=50; total time=   3.0s\n",
      "[CV] END ....................max_depth=None, n_estimators=50; total time=   3.0s\n",
      "[CV] END ....................max_depth=None, n_estimators=50; total time=   3.0s\n",
      "[CV] END ...................max_depth=None, n_estimators=100; total time=   6.3s\n",
      "[CV] END ...................max_depth=None, n_estimators=100; total time=   5.3s\n",
      "[CV] END ...................max_depth=None, n_estimators=100; total time=   2.2s\n",
      "[CV] END ...................max_depth=None, n_estimators=200; total time=   4.4s\n",
      "[CV] END ...................max_depth=None, n_estimators=200; total time=   4.5s\n",
      "[CV] END ...................max_depth=None, n_estimators=200; total time=   4.1s\n"
     ]
    },
    {
     "data": {
      "text/plain": [
       "({'max_depth': 20, 'n_estimators': 200}, 0.9277876107239891)"
      ]
     },
     "execution_count": 59,
     "metadata": {},
     "output_type": "execute_result"
    }
   ],
   "execution_count": 59
  },
  {
   "cell_type": "markdown",
   "id": "65047cda7c0b686c",
   "metadata": {},
   "source": [
    "Ways to Implementing the Model\n",
    "- Model Setup: Configure the Random Forest classifier using these optimal parameters.\n",
    "- Model Training: Train the model on your full training dataset to maximize the learning scope.\n",
    "- Evaluation: Validate the model again on your test dataset to confirm the performance improvements (like checking AUC-ROC, accuracy, precision, recall, and F1-score).\n",
    "- Interpretation: Analyze the model results, understanding which features are most influential in predicting outcomes.\n",
    " \n",
    "This can be done by examining feature importance's provided by the Random Forest algorithm."
   ]
  },
  {
   "cell_type": "code",
   "id": "1419468eaee1b8dd",
   "metadata": {
    "ExecuteTime": {
     "end_time": "2024-04-16T16:23:18.755313Z",
     "start_time": "2024-04-16T16:23:09.758913Z"
    }
   },
   "source": [
    "from sklearn.ensemble import RandomForestClassifier\n",
    "from sklearn.metrics import accuracy_score, roc_auc_score, confusion_matrix, classification_report\n",
    "\n",
    "# Initialize the Random Forest model with the optimal parameters\n",
    "model = RandomForestClassifier(n_estimators=200, max_depth=20, random_state=42)\n",
    "\n",
    "# Train the model on the training data\n",
    "model.fit(X_train, y_train)\n",
    "\n",
    "# Make predictions on the test set\n",
    "y_pred = model.predict(X_test)\n",
    "y_proba = model.predict_proba(X_test)[:, 1]\n",
    "\n",
    "# Evaluate the model\n",
    "accuracy = accuracy_score(y_test, y_pred)\n",
    "roc_auc = roc_auc_score(y_test, y_proba)\n",
    "conf_mat = confusion_matrix(y_test, y_pred)\n",
    "class_report = classification_report(y_test, y_pred)\n",
    "\n",
    "print(\"Accuracy:\", accuracy)\n",
    "print(\"ROC AUC Score:\", roc_auc)\n",
    "print(\"Confusion Matrix:\\n\", conf_mat)\n",
    "print(\"Classification Report:\\n\", class_report)\n"
   ],
   "outputs": [
    {
     "name": "stdout",
     "output_type": "stream",
     "text": [
      "Accuracy: 0.9067246718773042\n",
      "ROC AUC Score: 0.928449444629528\n",
      "Confusion Matrix:\n",
      " [[  628   937]\n",
      " [  328 11669]]\n",
      "Classification Report:\n",
      "               precision    recall  f1-score   support\n",
      "\n",
      "           0       0.66      0.40      0.50      1565\n",
      "           1       0.93      0.97      0.95     11997\n",
      "\n",
      "    accuracy                           0.91     13562\n",
      "   macro avg       0.79      0.69      0.72     13562\n",
      "weighted avg       0.89      0.91      0.90     13562\n",
      "\n"
     ]
    }
   ],
   "execution_count": 67
  },
  {
   "cell_type": "markdown",
   "id": "4a08b9ef7e2fd93",
   "metadata": {},
   "source": [
    "### Summary of Results:\n",
    "#### Accuracy: 90.67%\n",
    "\n",
    "The model correctly predicted the outcome for 90.67% of the cases in the test dataset, which is a solid overall performance.\n",
    "\n",
    "#### ROC AUC Score: 92.84%\n",
    "\n",
    "The Area Under the Receiver Operating Characteristic Curve (AUC-ROC) is 92.84%, indicating a high ability of the model to distinguish between the two classes (converted vs. not converted). This is an excellent score, suggesting that the model has a strong predictive capability.\n",
    "\n",
    "#### Confusion Matrix:\n",
    "\n",
    "- True Negative (TN) = 628: The number of correctly predicted non-conversions.\n",
    "- False Positive (FP) = 937: The number of non-conversions incorrectly predicted as conversions.\n",
    "- False Negative (FN) = 328: The number of conversions incorrectly predicted as non-conversions.\n",
    "- True Positive (TP) = 11,669: The number of correctly predicted conversions.\n",
    "\n",
    "    This matrix shows that while the model is very good at identifying true positives (conversions), it struggles relatively more with correctly classifying the negatives (non-conversions).\n",
    "\n",
    "Precision, Recall, and F1-Score:\n",
    "\n",
    "* Class 0 (Non-conversions):\n",
    "- Precision: 66% - Of all predicted non-conversions, 66% were actual non-conversions.\n",
    "- Recall: 40% - Of all actual non-conversions, only 40% were correctly identified.\n",
    "- F1-Score: 50% - The harmonic mean of precision and recall for non-conversions.\n",
    "\n",
    "* Class 1 (Conversions):\n",
    "- Precision: 93% - Of all predicted conversions, 93% were actual conversions.\n",
    "- Recall: 97% - Of all actual conversions, 97% were correctly identified.\n",
    "- F1-Score: 95% - The harmonic mean of precision and recall for conversions.\n",
    "\n",
    "#### Overall Scores:\n",
    "- Macro Average F1-Score: 72% - Average F1-score unweighted by class size.\n",
    "- Weighted Average F1-Score: 90% - Average F1-score weighted by the number of true instances for each class.\n",
    "\n",
    "#### Conclusions:\n",
    "\n",
    "The model is very effective in predicting conversions, evidenced by high precision and recall for the majority class (conversions).\n",
    "\n",
    "It has less effectiveness in identifying non-conversions, as seen by lower recall and precision for the minority class.\n",
    "\n",
    "The high AUC-ROC score indicates strong separability between classes under varying thresholds.\n",
    "\n",
    "The overall accuracy and weighted F1-score suggest that the model performs very well on the majority class but could benefit from improvements in identifying non-conversions more accurately."
   ]
  },
  {
   "cell_type": "markdown",
   "id": "9801a8fdce0102a7",
   "metadata": {},
   "source": [
    "Using this Random Forest model, you can classify a list of clients by priority based on their likelihood of conversion.\n",
    "\n",
    "This is particularly useful for marketing strategies where resources need to be allocated efficiently to target customers who are more likely to convert.\n",
    "\n",
    "#### Here’s how you can achieve this:\n",
    "\n",
    "__Step 1:__ Predict Conversion Probabilities\n",
    "\n",
    "First, the model can predict the probability of conversion for each client in your list. This involves feeding the clients' profile and interaction history data into the model, which then outputs a probability score for each client.\n",
    "\n",
    "__Step 2:__ Rank Clients\n",
    "\n",
    "You can then rank the clients based on these probabilities. Clients with higher scores are more likely to convert and should be prioritized in marketing campaigns. This ranking allows you to focus your efforts and resources on the clients with the highest potential return.\n",
    "\n",
    "__Step 3:__ Strategic Engagement\n",
    "\n",
    "Based on the ranking, you can develop tiered marketing strategies:\n",
    "\n",
    "- **High Priority:** Clients with the highest probability of conversion might receive more personalized and direct marketing efforts.\n",
    "- **Medium Priority:** Those with moderate scores could be nurtured with automated follow-ups and regular engagement.\n",
    "- **Lower Priority:** Clients with low probabilities might receive less frequent or general promotional materials, which helps in managing resources without completely ignoring any segment.\n",
    "\n",
    "#### Example Implementation\n",
    "\n",
    "For example, if you have a new campaign ready to launch, you could:\n",
    "\n",
    "__Prepare the Input Data:__ Gather and preprocess data for all clients as done during the model training phase, including encoding categorical variables and normalizing where necessary.\n",
    "\n",
    "__Predict Using the Model:__ Use the Random Forest model to predict conversion probabilities.\n",
    "\n",
    "__Sort the Output:__ Sort clients by their predicted probabilities in descending order.\n",
    "\n",
    "__Execute Campaigns:__ Tailor the campaign intensity and resources according to the sorted list, targeting the top-ranked clients first.\n",
    "\n",
    "This approach maximizes efficiency by focusing resources on individuals who are most likely to respond positively, enhancing the overall effectiveness of marketing efforts.\n"
   ]
  },
  {
   "cell_type": "markdown",
   "id": "1c414202-7ef4-4aa1-b81e-9dacd7788657",
   "metadata": {
    "ExecuteTime": {
     "end_time": "2024-04-16T04:40:28.037456Z",
     "start_time": "2024-04-16T04:40:28.034339Z"
    }
   },
   "source": [
    "## Model Serialization"
   ]
  },
  {
   "cell_type": "code",
   "id": "825412e883df14e5",
   "metadata": {
    "ExecuteTime": {
     "end_time": "2024-04-16T16:24:14.509570Z",
     "start_time": "2024-04-16T16:24:14.260792Z"
    }
   },
   "source": [
    "import pickle\n",
    "\n",
    "# Save the model to disk\n",
    "filename = 'finalized_model.sav'\n",
    "pickle.dump(model, open(filename, 'wb'))\n",
    "\n",
    "# Load the model from disk later for prediction\n",
    "loaded_model = pickle.load(open(filename, 'rb'))\n"
   ],
   "outputs": [],
   "execution_count": 68
  },
  {
   "cell_type": "markdown",
   "id": "4e9573032bca1352",
   "metadata": {},
   "source": [
    "#### Set Up the Production Environment\n",
    "\n",
    "**Cloud Deployment:** Server Setup: Decide whether the model will run on a cloud platform (AWS, Azure, Google Cloud) or on-premises. Set up the necessary servers, databases, and API gateways.\n",
    "\n",
    "**API Development:** Develop an API using frameworks like Flask or FastAPI in Python. This API will handle requests from the front end, process them with the model, and return predictions."
   ]
  },
  {
   "metadata": {},
   "cell_type": "code",
   "outputs": [],
   "execution_count": null,
   "source": "",
   "id": "8f0e3496a9352020"
  }
 ],
 "metadata": {
  "kernelspec": {
   "display_name": "Python 3 (ipykernel)",
   "language": "python",
   "name": "python3"
  },
  "language_info": {
   "codemirror_mode": {
    "name": "ipython",
    "version": 3
   },
   "file_extension": ".py",
   "mimetype": "text/x-python",
   "name": "python",
   "nbconvert_exporter": "python",
   "pygments_lexer": "ipython3",
   "version": "3.10.11"
  }
 },
 "nbformat": 4,
 "nbformat_minor": 5
}
